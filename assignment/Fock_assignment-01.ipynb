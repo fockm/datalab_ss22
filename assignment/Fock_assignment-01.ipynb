{
 "cells": [
  {
   "cell_type": "code",
   "execution_count": 1,
   "id": "6f352251",
   "metadata": {
    "scrolled": true
   },
   "outputs": [],
   "source": [
    "import numpy as np\n",
    "import pandas as pd\n",
    "import matplotlib.pyplot as plt\n",
    "import docker\n",
    "from io import StringIO\n",
    "import os.path\n",
    "\n",
    "# Import one methods from other file\n",
    "from dl_routines import *\n",
    "\n",
    "\n",
    "client = docker.from_env()\n",
    "client.containers.list()\n",
    "container=client.containers.get(\"datalab_s22\")\n",
    "container.attach()\n",
    "\n",
    "path=\"../code/assignment/\"\n",
    "\n",
    "t=180\n",
    "dt=1/4096\n",
    "N=180/dt\n",
    "sigma=25\n",
    "\n",
    "filename = \"data_01.csv\""
   ]
  },
  {
   "cell_type": "markdown",
   "id": "99d761bd",
   "metadata": {},
   "source": [
    "Plot the signal"
   ]
  },
  {
   "cell_type": "code",
   "execution_count": 2,
   "id": "68bff3ab",
   "metadata": {
    "scrolled": false
   },
   "outputs": [
    {
     "data": {
      "text/plain": [
       "[<matplotlib.lines.Line2D at 0x12af0f250>]"
      ]
     },
     "execution_count": 2,
     "metadata": {},
     "output_type": "execute_result"
    },
    {
     "data": {
      "image/png": "[encoded data removed]",
      "text/plain": [
       "<Figure size 432x288 with 1 Axes>"
      ]
     },
     "metadata": {
      "needs_background": "light"
     },
     "output_type": "display_data"
    }
   ],
   "source": [
    "data=pd.read_csv(path+filename,delimiter=' ',header=None)\n",
    "plt.plot(data[0],data[1])"
   ]
  },
  {
   "cell_type": "markdown",
   "id": "d2fe8150",
   "metadata": {},
   "source": [
    "***First analysis***"
   ]
  },
  {
   "cell_type": "markdown",
   "id": "fc6be09a",
   "metadata": {},
   "source": [
    "at first do a analysis with method 3 fourier transformation because it is best for easy signals"
   ]
  },
  {
   "cell_type": "code",
   "execution_count": 3,
   "id": "84cde1f6",
   "metadata": {
    "scrolled": true
   },
   "outputs": [
    {
     "data": {
      "image/png": "[encoded data removed]",
      "text/plain": [
       "<Figure size 432x288 with 1 Axes>"
      ]
     },
     "metadata": {
      "needs_background": "light"
     },
     "output_type": "display_data"
    }
   ],
   "source": [
    "df_m3 = method_three(filename)\n",
    "plt.plot(df_m3[0],df_m3[2])\n",
    "plt.xscale(\"log\")\n",
    "plt.yscale(\"log\")\n",
    "plt.show()"
   ]
  },
  {
   "cell_type": "markdown",
   "id": "a768b097",
   "metadata": {},
   "source": [
    "Get the frequency stepsize from the fourier sprectrum"
   ]
  },
  {
   "cell_type": "code",
   "execution_count": 4,
   "id": "217aeac0",
   "metadata": {},
   "outputs": [
    {
     "data": {
      "text/plain": [
       "0.00555648"
      ]
     },
     "execution_count": 4,
     "metadata": {},
     "output_type": "execute_result"
    }
   ],
   "source": [
    "dfreq = df_m3[0][1]-df_m3[0][0]\n",
    "dfreq"
   ]
  },
  {
   "cell_type": "markdown",
   "id": "3d5a09d9",
   "metadata": {},
   "source": [
    "Get an overview over the range where the maximum peak lays"
   ]
  },
  {
   "cell_type": "code",
   "execution_count": 5,
   "id": "99502434",
   "metadata": {
    "scrolled": true
   },
   "outputs": [
    {
     "data": {
      "text/html": [
       "<div>\n",
       "<style scoped>\n",
       "    .dataframe tbody tr th:only-of-type {\n",
       "        vertical-align: middle;\n",
       "    }\n",
       "\n",
       "    .dataframe tbody tr th {\n",
       "        vertical-align: top;\n",
       "    }\n",
       "\n",
       "    .dataframe thead th {\n",
       "        text-align: right;\n",
       "    }\n",
       "</style>\n",
       "<table border=\"1\" class=\"dataframe\">\n",
       "  <thead>\n",
       "    <tr style=\"text-align: right;\">\n",
       "      <th></th>\n",
       "      <th>0</th>\n",
       "      <th>1</th>\n",
       "      <th>2</th>\n",
       "    </tr>\n",
       "  </thead>\n",
       "  <tbody>\n",
       "    <tr>\n",
       "      <th>3600</th>\n",
       "      <td>20.0033</td>\n",
       "      <td>0</td>\n",
       "      <td>1.538010e+11</td>\n",
       "    </tr>\n",
       "    <tr>\n",
       "      <th>28813</th>\n",
       "      <td>160.0990</td>\n",
       "      <td>0</td>\n",
       "      <td>5.648290e+09</td>\n",
       "    </tr>\n",
       "    <tr>\n",
       "      <th>92291</th>\n",
       "      <td>512.8130</td>\n",
       "      <td>0</td>\n",
       "      <td>5.528770e+09</td>\n",
       "    </tr>\n",
       "    <tr>\n",
       "      <th>61309</th>\n",
       "      <td>340.6620</td>\n",
       "      <td>0</td>\n",
       "      <td>5.519180e+09</td>\n",
       "    </tr>\n",
       "    <tr>\n",
       "      <th>108376</th>\n",
       "      <td>602.1890</td>\n",
       "      <td>0</td>\n",
       "      <td>5.240480e+09</td>\n",
       "    </tr>\n",
       "    <tr>\n",
       "      <th>...</th>\n",
       "      <td>...</td>\n",
       "      <td>...</td>\n",
       "      <td>...</td>\n",
       "    </tr>\n",
       "    <tr>\n",
       "      <th>491518</th>\n",
       "      <td>2731.1100</td>\n",
       "      <td>0</td>\n",
       "      <td>0.000000e+00</td>\n",
       "    </tr>\n",
       "    <tr>\n",
       "      <th>491517</th>\n",
       "      <td>2731.1000</td>\n",
       "      <td>0</td>\n",
       "      <td>0.000000e+00</td>\n",
       "    </tr>\n",
       "    <tr>\n",
       "      <th>491516</th>\n",
       "      <td>2731.1000</td>\n",
       "      <td>0</td>\n",
       "      <td>0.000000e+00</td>\n",
       "    </tr>\n",
       "    <tr>\n",
       "      <th>491515</th>\n",
       "      <td>2731.0900</td>\n",
       "      <td>0</td>\n",
       "      <td>0.000000e+00</td>\n",
       "    </tr>\n",
       "    <tr>\n",
       "      <th>737279</th>\n",
       "      <td>4096.6800</td>\n",
       "      <td>0</td>\n",
       "      <td>0.000000e+00</td>\n",
       "    </tr>\n",
       "  </tbody>\n",
       "</table>\n",
       "<p>737280 rows × 3 columns</p>\n",
       "</div>"
      ],
      "text/plain": [
       "                0  1             2\n",
       "3600      20.0033  0  1.538010e+11\n",
       "28813    160.0990  0  5.648290e+09\n",
       "92291    512.8130  0  5.528770e+09\n",
       "61309    340.6620  0  5.519180e+09\n",
       "108376   602.1890  0  5.240480e+09\n",
       "...           ... ..           ...\n",
       "491518  2731.1100  0  0.000000e+00\n",
       "491517  2731.1000  0  0.000000e+00\n",
       "491516  2731.1000  0  0.000000e+00\n",
       "491515  2731.0900  0  0.000000e+00\n",
       "737279  4096.6800  0  0.000000e+00\n",
       "\n",
       "[737280 rows x 3 columns]"
      ]
     },
     "execution_count": 5,
     "metadata": {},
     "output_type": "execute_result"
    }
   ],
   "source": [
    "df_m3_sort = df_m3.sort_values(by=[2],ascending=False)\n",
    "df_m3_sort"
   ]
  },
  {
   "cell_type": "code",
   "execution_count": 6,
   "id": "b7a2687b",
   "metadata": {
    "scrolled": true
   },
   "outputs": [
    {
     "data": {
      "text/html": [
       "<div>\n",
       "<style scoped>\n",
       "    .dataframe tbody tr th:only-of-type {\n",
       "        vertical-align: middle;\n",
       "    }\n",
       "\n",
       "    .dataframe tbody tr th {\n",
       "        vertical-align: top;\n",
       "    }\n",
       "\n",
       "    .dataframe thead th {\n",
       "        text-align: right;\n",
       "    }\n",
       "</style>\n",
       "<table border=\"1\" class=\"dataframe\">\n",
       "  <thead>\n",
       "    <tr style=\"text-align: right;\">\n",
       "      <th></th>\n",
       "      <th>0</th>\n",
       "      <th>1</th>\n",
       "      <th>2</th>\n",
       "    </tr>\n",
       "  </thead>\n",
       "  <tbody>\n",
       "    <tr>\n",
       "      <th>3580</th>\n",
       "      <td>19.8922</td>\n",
       "      <td>0</td>\n",
       "      <td>5.677830e+07</td>\n",
       "    </tr>\n",
       "    <tr>\n",
       "      <th>3581</th>\n",
       "      <td>19.8978</td>\n",
       "      <td>0</td>\n",
       "      <td>1.607590e+08</td>\n",
       "    </tr>\n",
       "    <tr>\n",
       "      <th>3582</th>\n",
       "      <td>19.9033</td>\n",
       "      <td>0</td>\n",
       "      <td>1.427300e+09</td>\n",
       "    </tr>\n",
       "    <tr>\n",
       "      <th>3583</th>\n",
       "      <td>19.9089</td>\n",
       "      <td>0</td>\n",
       "      <td>9.638980e+06</td>\n",
       "    </tr>\n",
       "    <tr>\n",
       "      <th>3584</th>\n",
       "      <td>19.9144</td>\n",
       "      <td>0</td>\n",
       "      <td>4.436710e+08</td>\n",
       "    </tr>\n",
       "    <tr>\n",
       "      <th>3585</th>\n",
       "      <td>19.9200</td>\n",
       "      <td>0</td>\n",
       "      <td>6.485680e+08</td>\n",
       "    </tr>\n",
       "    <tr>\n",
       "      <th>3586</th>\n",
       "      <td>19.9255</td>\n",
       "      <td>0</td>\n",
       "      <td>7.732530e+07</td>\n",
       "    </tr>\n",
       "    <tr>\n",
       "      <th>3587</th>\n",
       "      <td>19.9311</td>\n",
       "      <td>0</td>\n",
       "      <td>4.311880e+07</td>\n",
       "    </tr>\n",
       "    <tr>\n",
       "      <th>3588</th>\n",
       "      <td>19.9367</td>\n",
       "      <td>0</td>\n",
       "      <td>6.134900e+07</td>\n",
       "    </tr>\n",
       "    <tr>\n",
       "      <th>3589</th>\n",
       "      <td>19.9422</td>\n",
       "      <td>0</td>\n",
       "      <td>2.265480e+08</td>\n",
       "    </tr>\n",
       "    <tr>\n",
       "      <th>3590</th>\n",
       "      <td>19.9478</td>\n",
       "      <td>0</td>\n",
       "      <td>7.970310e+08</td>\n",
       "    </tr>\n",
       "    <tr>\n",
       "      <th>3591</th>\n",
       "      <td>19.9533</td>\n",
       "      <td>0</td>\n",
       "      <td>1.317360e+09</td>\n",
       "    </tr>\n",
       "    <tr>\n",
       "      <th>3592</th>\n",
       "      <td>19.9589</td>\n",
       "      <td>0</td>\n",
       "      <td>1.858570e+09</td>\n",
       "    </tr>\n",
       "    <tr>\n",
       "      <th>3593</th>\n",
       "      <td>19.9644</td>\n",
       "      <td>0</td>\n",
       "      <td>2.927910e+08</td>\n",
       "    </tr>\n",
       "    <tr>\n",
       "      <th>3594</th>\n",
       "      <td>19.9700</td>\n",
       "      <td>0</td>\n",
       "      <td>2.373150e+08</td>\n",
       "    </tr>\n",
       "    <tr>\n",
       "      <th>3595</th>\n",
       "      <td>19.9755</td>\n",
       "      <td>0</td>\n",
       "      <td>1.502090e+08</td>\n",
       "    </tr>\n",
       "    <tr>\n",
       "      <th>3596</th>\n",
       "      <td>19.9811</td>\n",
       "      <td>0</td>\n",
       "      <td>1.393140e+08</td>\n",
       "    </tr>\n",
       "    <tr>\n",
       "      <th>3597</th>\n",
       "      <td>19.9867</td>\n",
       "      <td>0</td>\n",
       "      <td>1.584000e+08</td>\n",
       "    </tr>\n",
       "    <tr>\n",
       "      <th>3598</th>\n",
       "      <td>19.9922</td>\n",
       "      <td>0</td>\n",
       "      <td>5.409320e+08</td>\n",
       "    </tr>\n",
       "    <tr>\n",
       "      <th>3599</th>\n",
       "      <td>19.9978</td>\n",
       "      <td>0</td>\n",
       "      <td>7.970430e+07</td>\n",
       "    </tr>\n",
       "    <tr>\n",
       "      <th>3600</th>\n",
       "      <td>20.0033</td>\n",
       "      <td>0</td>\n",
       "      <td>1.538010e+11</td>\n",
       "    </tr>\n",
       "    <tr>\n",
       "      <th>3601</th>\n",
       "      <td>20.0089</td>\n",
       "      <td>0</td>\n",
       "      <td>5.608590e+07</td>\n",
       "    </tr>\n",
       "    <tr>\n",
       "      <th>3602</th>\n",
       "      <td>20.0144</td>\n",
       "      <td>0</td>\n",
       "      <td>2.468040e+08</td>\n",
       "    </tr>\n",
       "    <tr>\n",
       "      <th>3603</th>\n",
       "      <td>20.0200</td>\n",
       "      <td>0</td>\n",
       "      <td>3.466290e+08</td>\n",
       "    </tr>\n",
       "    <tr>\n",
       "      <th>3604</th>\n",
       "      <td>20.0256</td>\n",
       "      <td>0</td>\n",
       "      <td>8.126590e+07</td>\n",
       "    </tr>\n",
       "    <tr>\n",
       "      <th>3605</th>\n",
       "      <td>20.0311</td>\n",
       "      <td>0</td>\n",
       "      <td>4.777490e+08</td>\n",
       "    </tr>\n",
       "    <tr>\n",
       "      <th>3606</th>\n",
       "      <td>20.0367</td>\n",
       "      <td>0</td>\n",
       "      <td>5.238780e+07</td>\n",
       "    </tr>\n",
       "    <tr>\n",
       "      <th>3607</th>\n",
       "      <td>20.0422</td>\n",
       "      <td>0</td>\n",
       "      <td>6.267130e+07</td>\n",
       "    </tr>\n",
       "    <tr>\n",
       "      <th>3608</th>\n",
       "      <td>20.0478</td>\n",
       "      <td>0</td>\n",
       "      <td>7.569140e+08</td>\n",
       "    </tr>\n",
       "    <tr>\n",
       "      <th>3609</th>\n",
       "      <td>20.0533</td>\n",
       "      <td>0</td>\n",
       "      <td>1.644380e+09</td>\n",
       "    </tr>\n",
       "    <tr>\n",
       "      <th>3610</th>\n",
       "      <td>20.0589</td>\n",
       "      <td>0</td>\n",
       "      <td>1.022730e+09</td>\n",
       "    </tr>\n",
       "  </tbody>\n",
       "</table>\n",
       "</div>"
      ],
      "text/plain": [
       "            0  1             2\n",
       "3580  19.8922  0  5.677830e+07\n",
       "3581  19.8978  0  1.607590e+08\n",
       "3582  19.9033  0  1.427300e+09\n",
       "3583  19.9089  0  9.638980e+06\n",
       "3584  19.9144  0  4.436710e+08\n",
       "3585  19.9200  0  6.485680e+08\n",
       "3586  19.9255  0  7.732530e+07\n",
       "3587  19.9311  0  4.311880e+07\n",
       "3588  19.9367  0  6.134900e+07\n",
       "3589  19.9422  0  2.265480e+08\n",
       "3590  19.9478  0  7.970310e+08\n",
       "3591  19.9533  0  1.317360e+09\n",
       "3592  19.9589  0  1.858570e+09\n",
       "3593  19.9644  0  2.927910e+08\n",
       "3594  19.9700  0  2.373150e+08\n",
       "3595  19.9755  0  1.502090e+08\n",
       "3596  19.9811  0  1.393140e+08\n",
       "3597  19.9867  0  1.584000e+08\n",
       "3598  19.9922  0  5.409320e+08\n",
       "3599  19.9978  0  7.970430e+07\n",
       "3600  20.0033  0  1.538010e+11\n",
       "3601  20.0089  0  5.608590e+07\n",
       "3602  20.0144  0  2.468040e+08\n",
       "3603  20.0200  0  3.466290e+08\n",
       "3604  20.0256  0  8.126590e+07\n",
       "3605  20.0311  0  4.777490e+08\n",
       "3606  20.0367  0  5.238780e+07\n",
       "3607  20.0422  0  6.267130e+07\n",
       "3608  20.0478  0  7.569140e+08\n",
       "3609  20.0533  0  1.644380e+09\n",
       "3610  20.0589  0  1.022730e+09"
      ]
     },
     "execution_count": 6,
     "metadata": {},
     "output_type": "execute_result"
    }
   ],
   "source": [
    "df_m3.loc[3580:3610]"
   ]
  },
  {
   "cell_type": "markdown",
   "id": "296115f0",
   "metadata": {},
   "source": [
    "The biggest frequeny is very clear so i just choose one"
   ]
  },
  {
   "cell_type": "code",
   "execution_count": 7,
   "id": "ee0713bf",
   "metadata": {
    "scrolled": true
   },
   "outputs": [
    {
     "data": {
      "text/plain": [
       "20.0033"
      ]
     },
     "execution_count": 7,
     "metadata": {},
     "output_type": "execute_result"
    }
   ],
   "source": [
    "freq  = df_m3[0][df_m3[2].idxmax(0)]\n",
    "freq"
   ]
  },
  {
   "cell_type": "markdown",
   "id": "a8bec44e",
   "metadata": {},
   "source": [
    "***Templatebank and probing***"
   ]
  },
  {
   "cell_type": "markdown",
   "id": "9e912d2d",
   "metadata": {},
   "source": [
    "create template bank in range of the just determined frequency\n",
    "\n",
    "because there is only one possible frequency intervall we can directly make the runtime analysis\n",
    "We do a square of:"
   ]
  },
  {
   "cell_type": "code",
   "execution_count": 8,
   "id": "bd21d98e",
   "metadata": {
    "scrolled": true
   },
   "outputs": [
    {
     "data": {
      "text/plain": [
       "14541"
      ]
     },
     "execution_count": 8,
     "metadata": {},
     "output_type": "execute_result"
    }
   ],
   "source": [
    "freqs = int(2*dfreq/1e-4)\n",
    "phis = 131\n",
    "createTemplateBank(filename,freqs,freq-dfreq,freq+dfreq,phis)\n",
    "freqs * phis"
   ]
  },
  {
   "cell_type": "markdown",
   "id": "a22b4ece",
   "metadata": {},
   "source": [
    "Runtime analysis\n",
    "\n",
    "Take the time for probing of one element of the template bank"
   ]
  },
  {
   "cell_type": "code",
   "execution_count": 9,
   "id": "2ed62ee3",
   "metadata": {
    "scrolled": false
   },
   "outputs": [
    {
     "name": "stdout",
     "output_type": "stream",
     "text": [
      "397 ms ± 27.4 ms per loop (mean ± std. dev. of 3 runs, 100 loops each)\n"
     ]
    }
   ],
   "source": [
    "%%timeit -n100 -r3\n",
    "prober(filename,method=1,freq_prober=freq,phi=0)"
   ]
  },
  {
   "cell_type": "markdown",
   "id": "6950e9e8",
   "metadata": {},
   "source": [
    "thus we expect a runtime of:"
   ]
  },
  {
   "cell_type": "code",
   "execution_count": 10,
   "id": "5a54ede2",
   "metadata": {
    "scrolled": true
   },
   "outputs": [
    {
     "name": "stdout",
     "output_type": "stream",
     "text": [
      "53.07465 minutes\n"
     ]
    }
   ],
   "source": [
    "print(freqs * phis * 0.219 / 60, \"minutes\")"
   ]
  },
  {
   "cell_type": "markdown",
   "id": "651a10c9",
   "metadata": {},
   "source": [
    "which from experience is way to high. It is probably because of the time it take to call the function and the reason that prober with a template bank is way more optimised.\n",
    "\n",
    "do an analysis for frequency, phase and amplitude with method 1 scalar product (takes about 3-4 min):"
   ]
  },
  {
   "cell_type": "code",
   "execution_count": 11,
   "id": "bd215955",
   "metadata": {
    "scrolled": true
   },
   "outputs": [
    {
     "name": "stdout",
     "output_type": "stream",
     "text": [
      "CPU times: user 12.9 ms, sys: 19.7 ms, total: 32.6 ms\n",
      "Wall time: 3min 10s\n"
     ]
    },
    {
     "data": {
      "text/plain": [
       "ExecResult(exit_code=0, output=b'')"
      ]
     },
     "execution_count": 11,
     "metadata": {},
     "output_type": "execute_result"
    }
   ],
   "source": [
    "%%time\n",
    "prober_tb(filename,1,filename)"
   ]
  },
  {
   "cell_type": "markdown",
   "id": "3e08f43f",
   "metadata": {},
   "source": [
    "visualize the result"
   ]
  },
  {
   "cell_type": "code",
   "execution_count": 12,
   "id": "d584d7cd",
   "metadata": {
    "scrolled": true
   },
   "outputs": [
    {
     "data": {
      "image/png": "[encoded data removed]",
      "text/plain": [
       "<Figure size 432x288 with 2 Axes>"
      ]
     },
     "metadata": {
      "needs_background": "light"
     },
     "output_type": "display_data"
    },
    {
     "data": {
      "text/plain": [
       "(20.0, 0.0, 1.06377)"
      ]
     },
     "execution_count": 12,
     "metadata": {},
     "output_type": "execute_result"
    }
   ],
   "source": [
    "df = proberToDf(filename,True)\n",
    "(a ,b)  = (df[0].drop_duplicates(),df[1].drop_duplicates())\n",
    "plt.contourf(a,b,df[2].values.reshape(len(b.index),len(a.index)))\n",
    "plt.colorbar()\n",
    "plt.show()\n",
    "idmax = df[2].idxmax()\n",
    "freq = df[0][idmax]\n",
    "phase = df[1][idmax]\n",
    "ampl = df[2][idmax]*2\n",
    "(freq,phase,ampl)"
   ]
  },
  {
   "cell_type": "markdown",
   "id": "e82891df",
   "metadata": {},
   "source": [
    "the solution seems very plausible and is very sharp"
   ]
  },
  {
   "cell_type": "markdown",
   "id": "9af3340b",
   "metadata": {},
   "source": [
    "Dataframe of (df, dphi, mismatch)_i"
   ]
  },
  {
   "cell_type": "code",
   "execution_count": 13,
   "id": "98a041e7",
   "metadata": {
    "scrolled": false
   },
   "outputs": [
    {
     "data": {
      "text/html": [
       "<div>\n",
       "<style scoped>\n",
       "    .dataframe tbody tr th:only-of-type {\n",
       "        vertical-align: middle;\n",
       "    }\n",
       "\n",
       "    .dataframe tbody tr th {\n",
       "        vertical-align: top;\n",
       "    }\n",
       "\n",
       "    .dataframe thead th {\n",
       "        text-align: right;\n",
       "    }\n",
       "</style>\n",
       "<table border=\"1\" class=\"dataframe\">\n",
       "  <thead>\n",
       "    <tr style=\"text-align: right;\">\n",
       "      <th></th>\n",
       "      <th>df</th>\n",
       "      <th>dp</th>\n",
       "      <th>mismatch</th>\n",
       "    </tr>\n",
       "  </thead>\n",
       "  <tbody>\n",
       "    <tr>\n",
       "      <th>0</th>\n",
       "      <td>0.0023</td>\n",
       "      <td>0.00000</td>\n",
       "      <td>0.777341</td>\n",
       "    </tr>\n",
       "    <tr>\n",
       "      <th>1</th>\n",
       "      <td>0.0022</td>\n",
       "      <td>0.00000</td>\n",
       "      <td>0.728522</td>\n",
       "    </tr>\n",
       "    <tr>\n",
       "      <th>2</th>\n",
       "      <td>0.0021</td>\n",
       "      <td>0.00000</td>\n",
       "      <td>0.678681</td>\n",
       "    </tr>\n",
       "    <tr>\n",
       "      <th>3</th>\n",
       "      <td>0.0020</td>\n",
       "      <td>0.00000</td>\n",
       "      <td>0.628173</td>\n",
       "    </tr>\n",
       "    <tr>\n",
       "      <th>4</th>\n",
       "      <td>0.0019</td>\n",
       "      <td>0.00000</td>\n",
       "      <td>0.577341</td>\n",
       "    </tr>\n",
       "    <tr>\n",
       "      <th>...</th>\n",
       "      <td>...</td>\n",
       "      <td>...</td>\n",
       "      <td>...</td>\n",
       "    </tr>\n",
       "    <tr>\n",
       "      <th>14536</th>\n",
       "      <td>0.0085</td>\n",
       "      <td>6.28319</td>\n",
       "      <td>1.062653</td>\n",
       "    </tr>\n",
       "    <tr>\n",
       "      <th>14537</th>\n",
       "      <td>0.0086</td>\n",
       "      <td>6.28319</td>\n",
       "      <td>1.075038</td>\n",
       "    </tr>\n",
       "    <tr>\n",
       "      <th>14538</th>\n",
       "      <td>0.0087</td>\n",
       "      <td>6.28319</td>\n",
       "      <td>1.086483</td>\n",
       "    </tr>\n",
       "    <tr>\n",
       "      <th>14539</th>\n",
       "      <td>0.0088</td>\n",
       "      <td>6.28319</td>\n",
       "      <td>1.096859</td>\n",
       "    </tr>\n",
       "    <tr>\n",
       "      <th>14540</th>\n",
       "      <td>0.0089</td>\n",
       "      <td>6.28319</td>\n",
       "      <td>1.106052</td>\n",
       "    </tr>\n",
       "  </tbody>\n",
       "</table>\n",
       "<p>14541 rows × 3 columns</p>\n",
       "</div>"
      ],
      "text/plain": [
       "           df       dp  mismatch\n",
       "0      0.0023  0.00000  0.777341\n",
       "1      0.0022  0.00000  0.728522\n",
       "2      0.0021  0.00000  0.678681\n",
       "3      0.0020  0.00000  0.628173\n",
       "4      0.0019  0.00000  0.577341\n",
       "...       ...      ...       ...\n",
       "14536  0.0085  6.28319  1.062653\n",
       "14537  0.0086  6.28319  1.075038\n",
       "14538  0.0087  6.28319  1.086483\n",
       "14539  0.0088  6.28319  1.096859\n",
       "14540  0.0089  6.28319  1.106052\n",
       "\n",
       "[14541 rows x 3 columns]"
      ]
     },
     "execution_count": 13,
     "metadata": {},
     "output_type": "execute_result"
    }
   ],
   "source": [
    "mismatch=1-df[2]/ampl*2\n",
    "d = {'df': np.abs(df[0]-freq), 'dp':np.abs(df[1]-phase),'mismatch':mismatch}\n",
    "mismatch = pd.DataFrame(data=d)\n",
    "mismatch"
   ]
  },
  {
   "cell_type": "markdown",
   "id": "acc1416d",
   "metadata": {},
   "source": [
    "***ROC curve***"
   ]
  },
  {
   "cell_type": "markdown",
   "id": "2e2415a2",
   "metadata": {},
   "source": [
    "Generate Noise and multiple signals with above parameters"
   ]
  },
  {
   "cell_type": "code",
   "execution_count": 14,
   "id": "83e7d2fd",
   "metadata": {},
   "outputs": [],
   "source": [
    "for i in range(0,100):\n",
    "    if not os.path.isfile(path+getFileName(N,sigma,0,deltaT=dt)+\"_\"+str(i)):\n",
    "        filename = getFileName(N=N,sigma=sigma,amplitude=0,deltaT=dt)+\"_\"+str(i)\n",
    "        generate_source(N=N,sigma=sigma,amplitude=0,deltaT=dt,filename=filename)\n",
    "        \n",
    "for i in range(0,100):\n",
    "    if not os.path.isfile(path+getFileName(N,sigma,ampl,freq,deltaT=dt,phase=phase)+\"_\"+str(i)):\n",
    "        filename = getFileName(N=N,sigma=sigma,amplitude=ampl,freq=freq,deltaT=dt,phase=phase)+\"_\"+str(i)\n",
    "        generate_source(N=N,sigma=sigma,amplitude=ampl,freq=freq,deltaT=dt,phase=phase,filename=filename)"
   ]
  },
  {
   "cell_type": "markdown",
   "id": "96aee039",
   "metadata": {},
   "source": [
    "probe the generated signals"
   ]
  },
  {
   "cell_type": "code",
   "execution_count": 15,
   "id": "3655d99f",
   "metadata": {},
   "outputs": [],
   "source": [
    "probeN=[float(method_one(getFileName(N,sigma,0,deltaT=dt)+\"_\"+str(i),freq,phase)[2])/ampl*2 for i in range(0,100)]\n",
    "probeS=[float(method_one(getFileName(N,sigma,ampl,freq,dt,phase)+\"_\"+str(i),freq,phase)[2])/ampl*2 for i in range(0,100)]"
   ]
  },
  {
   "cell_type": "code",
   "execution_count": 16,
   "id": "8eb4b1e5",
   "metadata": {},
   "outputs": [
    {
     "data": {
      "text/plain": [
       "1.06377"
      ]
     },
     "execution_count": 16,
     "metadata": {},
     "output_type": "execute_result"
    }
   ],
   "source": [
    "ampl"
   ]
  },
  {
   "cell_type": "code",
   "execution_count": 17,
   "id": "55ea0893",
   "metadata": {
    "scrolled": true
   },
   "outputs": [
    {
     "data": {
      "image/png": "[encoded data removed]",
      "text/plain": [
       "<Figure size 432x288 with 1 Axes>"
      ]
     },
     "metadata": {
      "needs_background": "light"
     },
     "output_type": "display_data"
    }
   ],
   "source": [
    "plt.plot(probeS)\n",
    "plt.plot(probeN)\n",
    "plt.show()"
   ]
  },
  {
   "cell_type": "markdown",
   "id": "c5d47795",
   "metadata": {},
   "source": [
    "Plot histograms"
   ]
  },
  {
   "cell_type": "code",
   "execution_count": 18,
   "id": "ea20a274",
   "metadata": {
    "scrolled": true
   },
   "outputs": [
    {
     "data": {
      "image/png": "[encoded data removed]",
      "text/plain": [
       "<Figure size 432x288 with 1 Axes>"
      ]
     },
     "metadata": {
      "needs_background": "light"
     },
     "output_type": "display_data"
    }
   ],
   "source": [
    "plt.hist(probeN,bins=25,alpha=0.5)\n",
    "plt.hist(probeS,bins=25,alpha=0.5)\n",
    "plt.show()"
   ]
  },
  {
   "cell_type": "markdown",
   "id": "23c6afb5",
   "metadata": {},
   "source": [
    "Generate ROC curve"
   ]
  },
  {
   "cell_type": "code",
   "execution_count": 19,
   "id": "377ca722",
   "metadata": {
    "scrolled": true
   },
   "outputs": [
    {
     "data": {
      "text/html": [
       "<div>\n",
       "<style scoped>\n",
       "    .dataframe tbody tr th:only-of-type {\n",
       "        vertical-align: middle;\n",
       "    }\n",
       "\n",
       "    .dataframe tbody tr th {\n",
       "        vertical-align: top;\n",
       "    }\n",
       "\n",
       "    .dataframe thead th {\n",
       "        text-align: right;\n",
       "    }\n",
       "</style>\n",
       "<table border=\"1\" class=\"dataframe\">\n",
       "  <thead>\n",
       "    <tr style=\"text-align: right;\">\n",
       "      <th></th>\n",
       "      <th>threshold</th>\n",
       "      <th>false positives</th>\n",
       "      <th>true positives</th>\n",
       "    </tr>\n",
       "  </thead>\n",
       "  <tbody>\n",
       "    <tr>\n",
       "      <th>0</th>\n",
       "      <td>-1.000000</td>\n",
       "      <td>100</td>\n",
       "      <td>100</td>\n",
       "    </tr>\n",
       "    <tr>\n",
       "      <th>1</th>\n",
       "      <td>-0.979798</td>\n",
       "      <td>100</td>\n",
       "      <td>100</td>\n",
       "    </tr>\n",
       "    <tr>\n",
       "      <th>2</th>\n",
       "      <td>-0.959596</td>\n",
       "      <td>100</td>\n",
       "      <td>100</td>\n",
       "    </tr>\n",
       "    <tr>\n",
       "      <th>3</th>\n",
       "      <td>-0.939394</td>\n",
       "      <td>100</td>\n",
       "      <td>100</td>\n",
       "    </tr>\n",
       "    <tr>\n",
       "      <th>4</th>\n",
       "      <td>-0.919192</td>\n",
       "      <td>100</td>\n",
       "      <td>100</td>\n",
       "    </tr>\n",
       "    <tr>\n",
       "      <th>...</th>\n",
       "      <td>...</td>\n",
       "      <td>...</td>\n",
       "      <td>...</td>\n",
       "    </tr>\n",
       "    <tr>\n",
       "      <th>95</th>\n",
       "      <td>0.919192</td>\n",
       "      <td>0</td>\n",
       "      <td>97</td>\n",
       "    </tr>\n",
       "    <tr>\n",
       "      <th>96</th>\n",
       "      <td>0.939394</td>\n",
       "      <td>0</td>\n",
       "      <td>95</td>\n",
       "    </tr>\n",
       "    <tr>\n",
       "      <th>97</th>\n",
       "      <td>0.959596</td>\n",
       "      <td>0</td>\n",
       "      <td>89</td>\n",
       "    </tr>\n",
       "    <tr>\n",
       "      <th>98</th>\n",
       "      <td>0.979798</td>\n",
       "      <td>0</td>\n",
       "      <td>78</td>\n",
       "    </tr>\n",
       "    <tr>\n",
       "      <th>99</th>\n",
       "      <td>1.000000</td>\n",
       "      <td>0</td>\n",
       "      <td>56</td>\n",
       "    </tr>\n",
       "  </tbody>\n",
       "</table>\n",
       "<p>100 rows × 3 columns</p>\n",
       "</div>"
      ],
      "text/plain": [
       "    threshold  false positives  true positives\n",
       "0   -1.000000              100             100\n",
       "1   -0.979798              100             100\n",
       "2   -0.959596              100             100\n",
       "3   -0.939394              100             100\n",
       "4   -0.919192              100             100\n",
       "..        ...              ...             ...\n",
       "95   0.919192                0              97\n",
       "96   0.939394                0              95\n",
       "97   0.959596                0              89\n",
       "98   0.979798                0              78\n",
       "99   1.000000                0              56\n",
       "\n",
       "[100 rows x 3 columns]"
      ]
     },
     "execution_count": 19,
     "metadata": {},
     "output_type": "execute_result"
    }
   ],
   "source": [
    "roc = compute_thresholds(probeS,probeN)\n",
    "roc"
   ]
  },
  {
   "cell_type": "markdown",
   "id": "a08abb40",
   "metadata": {},
   "source": [
    "Plot the roc curve and get the threshold."
   ]
  },
  {
   "cell_type": "code",
   "execution_count": 20,
   "id": "e8b69825",
   "metadata": {
    "scrolled": true
   },
   "outputs": [
    {
     "data": {
      "image/png": "[encoded data removed]",
      "text/plain": [
       "<Figure size 432x288 with 1 Axes>"
      ]
     },
     "metadata": {
      "needs_background": "light"
     },
     "output_type": "display_data"
    },
    {
     "data": {
      "text/plain": [
       "0.9595959595959598"
      ]
     },
     "execution_count": 20,
     "metadata": {},
     "output_type": "execute_result"
    }
   ],
   "source": [
    "roc_curve(probeS,probeN)"
   ]
  },
  {
   "cell_type": "markdown",
   "id": "2f8044b9",
   "metadata": {},
   "source": [
    "With this threshold about 89/100 times the signal gets detected, while 0/100 times noise gets detected as a signal."
   ]
  },
  {
   "cell_type": "code",
   "execution_count": 21,
   "id": "5dd24601",
   "metadata": {},
   "outputs": [
    {
     "data": {
      "text/html": [
       "<div>\n",
       "<style scoped>\n",
       "    .dataframe tbody tr th:only-of-type {\n",
       "        vertical-align: middle;\n",
       "    }\n",
       "\n",
       "    .dataframe tbody tr th {\n",
       "        vertical-align: top;\n",
       "    }\n",
       "\n",
       "    .dataframe thead th {\n",
       "        text-align: right;\n",
       "    }\n",
       "</style>\n",
       "<table border=\"1\" class=\"dataframe\">\n",
       "  <thead>\n",
       "    <tr style=\"text-align: right;\">\n",
       "      <th></th>\n",
       "      <th>threshold</th>\n",
       "      <th>false positives</th>\n",
       "      <th>true positives</th>\n",
       "    </tr>\n",
       "  </thead>\n",
       "  <tbody>\n",
       "    <tr>\n",
       "      <th>97</th>\n",
       "      <td>0.959596</td>\n",
       "      <td>0</td>\n",
       "      <td>89</td>\n",
       "    </tr>\n",
       "  </tbody>\n",
       "</table>\n",
       "</div>"
      ],
      "text/plain": [
       "    threshold  false positives  true positives\n",
       "97   0.959596                0              89"
      ]
     },
     "execution_count": 21,
     "metadata": {},
     "output_type": "execute_result"
    }
   ],
   "source": [
    "roc[97:98]"
   ]
  },
  {
   "cell_type": "code",
   "execution_count": null,
   "id": "4684116f",
   "metadata": {},
   "outputs": [],
   "source": []
  }
 ],
 "metadata": {
  "kernelspec": {
   "display_name": "Python 3 (ipykernel)",
   "language": "python",
   "name": "python3"
  },
  "language_info": {
   "codemirror_mode": {
    "name": "ipython",
    "version": 3
   },
   "file_extension": ".py",
   "mimetype": "text/x-python",
   "name": "python",
   "nbconvert_exporter": "python",
   "pygments_lexer": "ipython3",
   "version": "3.8.9"
  }
 },
 "nbformat": 4,
 "nbformat_minor": 5
}
