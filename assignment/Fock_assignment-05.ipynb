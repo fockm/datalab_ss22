{
 "cells": [
  {
   "cell_type": "code",
   "execution_count": 1,
   "id": "6f352251",
   "metadata": {
    "scrolled": true
   },
   "outputs": [],
   "source": [
    "import numpy as np\n",
    "import pandas as pd\n",
    "import matplotlib.pyplot as plt\n",
    "import docker\n",
    "from io import StringIO\n",
    "import os.path\n",
    "\n",
    "# Import one methods from other file\n",
    "from dl_routines import *\n",
    "\n",
    "\n",
    "client = docker.from_env()\n",
    "client.containers.list()\n",
    "container=client.containers.get(\"datalab_s22\")\n",
    "container.attach()\n",
    "\n",
    "path=\"../code/assignment/\"\n",
    "\n",
    "t=180\n",
    "dt=1/4096\n",
    "N=180/dt\n",
    "sigma=25\n",
    "\n",
    "filename = \"data_05.csv\""
   ]
  },
  {
   "cell_type": "markdown",
   "id": "99d761bd",
   "metadata": {},
   "source": [
    "Plot the signal"
   ]
  },
  {
   "cell_type": "code",
   "execution_count": 2,
   "id": "68bff3ab",
   "metadata": {
    "scrolled": false
   },
   "outputs": [
    {
     "data": {
      "text/plain": [
       "[<matplotlib.lines.Line2D at 0x12f14f250>]"
      ]
     },
     "execution_count": 2,
     "metadata": {},
     "output_type": "execute_result"
    },
    {
     "data": {
      "image/png": "[encoded data removed]",
      "text/plain": [
       "<Figure size 432x288 with 1 Axes>"
      ]
     },
     "metadata": {
      "needs_background": "light"
     },
     "output_type": "display_data"
    }
   ],
   "source": [
    "data=pd.read_csv(path+filename,delimiter=' ',header=None)\n",
    "plt.plot(data[0],data[1])"
   ]
  },
  {
   "cell_type": "markdown",
   "id": "d2fe8150",
   "metadata": {},
   "source": [
    "***First analysis***"
   ]
  },
  {
   "cell_type": "markdown",
   "id": "fc6be09a",
   "metadata": {},
   "source": [
    "at first do a analysis with method 3 fourier transformation because it is best for easy signals"
   ]
  },
  {
   "cell_type": "code",
   "execution_count": 3,
   "id": "84cde1f6",
   "metadata": {
    "scrolled": true
   },
   "outputs": [
    {
     "data": {
      "image/png": "[encoded data removed]",
      "text/plain": [
       "<Figure size 432x288 with 1 Axes>"
      ]
     },
     "metadata": {
      "needs_background": "light"
     },
     "output_type": "display_data"
    }
   ],
   "source": [
    "df_m3 = method_three(filename)\n",
    "plt.plot(df_m3[0],df_m3[2])\n",
    "plt.xscale(\"log\")\n",
    "plt.yscale(\"log\")\n",
    "plt.show()"
   ]
  },
  {
   "cell_type": "markdown",
   "id": "a768b097",
   "metadata": {},
   "source": [
    "Get the frequency stepsize from the fourier sprectrum"
   ]
  },
  {
   "cell_type": "code",
   "execution_count": 4,
   "id": "217aeac0",
   "metadata": {},
   "outputs": [
    {
     "data": {
      "text/plain": [
       "0.00555648"
      ]
     },
     "execution_count": 4,
     "metadata": {},
     "output_type": "execute_result"
    }
   ],
   "source": [
    "dfreq = df_m3[0][1]-df_m3[0][0]\n",
    "dfreq"
   ]
  },
  {
   "cell_type": "markdown",
   "id": "3d5a09d9",
   "metadata": {},
   "source": [
    "Get an overview over the range where the maximum peak lays"
   ]
  },
  {
   "cell_type": "code",
   "execution_count": 5,
   "id": "99502434",
   "metadata": {
    "scrolled": true
   },
   "outputs": [
    {
     "data": {
      "text/html": [
       "<div>\n",
       "<style scoped>\n",
       "    .dataframe tbody tr th:only-of-type {\n",
       "        vertical-align: middle;\n",
       "    }\n",
       "\n",
       "    .dataframe tbody tr th {\n",
       "        vertical-align: top;\n",
       "    }\n",
       "\n",
       "    .dataframe thead th {\n",
       "        text-align: right;\n",
       "    }\n",
       "</style>\n",
       "<table border=\"1\" class=\"dataframe\">\n",
       "  <thead>\n",
       "    <tr style=\"text-align: right;\">\n",
       "      <th></th>\n",
       "      <th>0</th>\n",
       "      <th>1</th>\n",
       "      <th>2</th>\n",
       "    </tr>\n",
       "  </thead>\n",
       "  <tbody>\n",
       "    <tr>\n",
       "      <th>38013</th>\n",
       "      <td>211.218</td>\n",
       "      <td>0</td>\n",
       "      <td>4.725700e+11</td>\n",
       "    </tr>\n",
       "    <tr>\n",
       "      <th>38012</th>\n",
       "      <td>211.213</td>\n",
       "      <td>0</td>\n",
       "      <td>4.082440e+10</td>\n",
       "    </tr>\n",
       "    <tr>\n",
       "      <th>38014</th>\n",
       "      <td>211.224</td>\n",
       "      <td>0</td>\n",
       "      <td>1.465050e+10</td>\n",
       "    </tr>\n",
       "    <tr>\n",
       "      <th>38015</th>\n",
       "      <td>211.230</td>\n",
       "      <td>0</td>\n",
       "      <td>1.407300e+10</td>\n",
       "    </tr>\n",
       "    <tr>\n",
       "      <th>360813</th>\n",
       "      <td>2004.850</td>\n",
       "      <td>0</td>\n",
       "      <td>6.344990e+09</td>\n",
       "    </tr>\n",
       "    <tr>\n",
       "      <th>...</th>\n",
       "      <td>...</td>\n",
       "      <td>...</td>\n",
       "      <td>...</td>\n",
       "    </tr>\n",
       "    <tr>\n",
       "      <th>491518</th>\n",
       "      <td>2731.110</td>\n",
       "      <td>0</td>\n",
       "      <td>0.000000e+00</td>\n",
       "    </tr>\n",
       "    <tr>\n",
       "      <th>491517</th>\n",
       "      <td>2731.100</td>\n",
       "      <td>0</td>\n",
       "      <td>0.000000e+00</td>\n",
       "    </tr>\n",
       "    <tr>\n",
       "      <th>491516</th>\n",
       "      <td>2731.100</td>\n",
       "      <td>0</td>\n",
       "      <td>0.000000e+00</td>\n",
       "    </tr>\n",
       "    <tr>\n",
       "      <th>491515</th>\n",
       "      <td>2731.090</td>\n",
       "      <td>0</td>\n",
       "      <td>0.000000e+00</td>\n",
       "    </tr>\n",
       "    <tr>\n",
       "      <th>737279</th>\n",
       "      <td>4096.680</td>\n",
       "      <td>0</td>\n",
       "      <td>0.000000e+00</td>\n",
       "    </tr>\n",
       "  </tbody>\n",
       "</table>\n",
       "<p>737280 rows × 3 columns</p>\n",
       "</div>"
      ],
      "text/plain": [
       "               0  1             2\n",
       "38013    211.218  0  4.725700e+11\n",
       "38012    211.213  0  4.082440e+10\n",
       "38014    211.224  0  1.465050e+10\n",
       "38015    211.230  0  1.407300e+10\n",
       "360813  2004.850  0  6.344990e+09\n",
       "...          ... ..           ...\n",
       "491518  2731.110  0  0.000000e+00\n",
       "491517  2731.100  0  0.000000e+00\n",
       "491516  2731.100  0  0.000000e+00\n",
       "491515  2731.090  0  0.000000e+00\n",
       "737279  4096.680  0  0.000000e+00\n",
       "\n",
       "[737280 rows x 3 columns]"
      ]
     },
     "execution_count": 5,
     "metadata": {},
     "output_type": "execute_result"
    }
   ],
   "source": [
    "df_m3_sort = df_m3.sort_values(by=[2],ascending=False)\n",
    "df_m3_sort"
   ]
  },
  {
   "cell_type": "code",
   "execution_count": 6,
   "id": "b7a2687b",
   "metadata": {
    "scrolled": true
   },
   "outputs": [
    {
     "data": {
      "text/html": [
       "<div>\n",
       "<style scoped>\n",
       "    .dataframe tbody tr th:only-of-type {\n",
       "        vertical-align: middle;\n",
       "    }\n",
       "\n",
       "    .dataframe tbody tr th {\n",
       "        vertical-align: top;\n",
       "    }\n",
       "\n",
       "    .dataframe thead th {\n",
       "        text-align: right;\n",
       "    }\n",
       "</style>\n",
       "<table border=\"1\" class=\"dataframe\">\n",
       "  <thead>\n",
       "    <tr style=\"text-align: right;\">\n",
       "      <th></th>\n",
       "      <th>0</th>\n",
       "      <th>1</th>\n",
       "      <th>2</th>\n",
       "    </tr>\n",
       "  </thead>\n",
       "  <tbody>\n",
       "    <tr>\n",
       "      <th>38003</th>\n",
       "      <td>211.163</td>\n",
       "      <td>0</td>\n",
       "      <td>6.420780e+07</td>\n",
       "    </tr>\n",
       "    <tr>\n",
       "      <th>38004</th>\n",
       "      <td>211.168</td>\n",
       "      <td>0</td>\n",
       "      <td>2.090420e+08</td>\n",
       "    </tr>\n",
       "    <tr>\n",
       "      <th>38005</th>\n",
       "      <td>211.174</td>\n",
       "      <td>0</td>\n",
       "      <td>1.186220e+08</td>\n",
       "    </tr>\n",
       "    <tr>\n",
       "      <th>38006</th>\n",
       "      <td>211.180</td>\n",
       "      <td>0</td>\n",
       "      <td>5.469310e+08</td>\n",
       "    </tr>\n",
       "    <tr>\n",
       "      <th>38007</th>\n",
       "      <td>211.185</td>\n",
       "      <td>0</td>\n",
       "      <td>7.213450e+08</td>\n",
       "    </tr>\n",
       "    <tr>\n",
       "      <th>38008</th>\n",
       "      <td>211.191</td>\n",
       "      <td>0</td>\n",
       "      <td>5.609270e+08</td>\n",
       "    </tr>\n",
       "    <tr>\n",
       "      <th>38009</th>\n",
       "      <td>211.196</td>\n",
       "      <td>0</td>\n",
       "      <td>3.957030e+09</td>\n",
       "    </tr>\n",
       "    <tr>\n",
       "      <th>38010</th>\n",
       "      <td>211.202</td>\n",
       "      <td>0</td>\n",
       "      <td>1.131020e+09</td>\n",
       "    </tr>\n",
       "    <tr>\n",
       "      <th>38011</th>\n",
       "      <td>211.207</td>\n",
       "      <td>0</td>\n",
       "      <td>6.341800e+09</td>\n",
       "    </tr>\n",
       "    <tr>\n",
       "      <th>38012</th>\n",
       "      <td>211.213</td>\n",
       "      <td>0</td>\n",
       "      <td>4.082440e+10</td>\n",
       "    </tr>\n",
       "    <tr>\n",
       "      <th>38013</th>\n",
       "      <td>211.218</td>\n",
       "      <td>0</td>\n",
       "      <td>4.725700e+11</td>\n",
       "    </tr>\n",
       "    <tr>\n",
       "      <th>38014</th>\n",
       "      <td>211.224</td>\n",
       "      <td>0</td>\n",
       "      <td>1.465050e+10</td>\n",
       "    </tr>\n",
       "    <tr>\n",
       "      <th>38015</th>\n",
       "      <td>211.230</td>\n",
       "      <td>0</td>\n",
       "      <td>1.407300e+10</td>\n",
       "    </tr>\n",
       "    <tr>\n",
       "      <th>38016</th>\n",
       "      <td>211.235</td>\n",
       "      <td>0</td>\n",
       "      <td>2.723530e+09</td>\n",
       "    </tr>\n",
       "    <tr>\n",
       "      <th>38017</th>\n",
       "      <td>211.241</td>\n",
       "      <td>0</td>\n",
       "      <td>4.116710e+09</td>\n",
       "    </tr>\n",
       "    <tr>\n",
       "      <th>38018</th>\n",
       "      <td>211.246</td>\n",
       "      <td>0</td>\n",
       "      <td>1.136620e+09</td>\n",
       "    </tr>\n",
       "    <tr>\n",
       "      <th>38019</th>\n",
       "      <td>211.252</td>\n",
       "      <td>0</td>\n",
       "      <td>2.523600e+09</td>\n",
       "    </tr>\n",
       "    <tr>\n",
       "      <th>38020</th>\n",
       "      <td>211.257</td>\n",
       "      <td>0</td>\n",
       "      <td>4.049240e+08</td>\n",
       "    </tr>\n",
       "    <tr>\n",
       "      <th>38021</th>\n",
       "      <td>211.263</td>\n",
       "      <td>0</td>\n",
       "      <td>6.283870e+08</td>\n",
       "    </tr>\n",
       "    <tr>\n",
       "      <th>38022</th>\n",
       "      <td>211.268</td>\n",
       "      <td>0</td>\n",
       "      <td>1.730940e+08</td>\n",
       "    </tr>\n",
       "    <tr>\n",
       "      <th>38023</th>\n",
       "      <td>211.274</td>\n",
       "      <td>0</td>\n",
       "      <td>5.814130e+08</td>\n",
       "    </tr>\n",
       "  </tbody>\n",
       "</table>\n",
       "</div>"
      ],
      "text/plain": [
       "             0  1             2\n",
       "38003  211.163  0  6.420780e+07\n",
       "38004  211.168  0  2.090420e+08\n",
       "38005  211.174  0  1.186220e+08\n",
       "38006  211.180  0  5.469310e+08\n",
       "38007  211.185  0  7.213450e+08\n",
       "38008  211.191  0  5.609270e+08\n",
       "38009  211.196  0  3.957030e+09\n",
       "38010  211.202  0  1.131020e+09\n",
       "38011  211.207  0  6.341800e+09\n",
       "38012  211.213  0  4.082440e+10\n",
       "38013  211.218  0  4.725700e+11\n",
       "38014  211.224  0  1.465050e+10\n",
       "38015  211.230  0  1.407300e+10\n",
       "38016  211.235  0  2.723530e+09\n",
       "38017  211.241  0  4.116710e+09\n",
       "38018  211.246  0  1.136620e+09\n",
       "38019  211.252  0  2.523600e+09\n",
       "38020  211.257  0  4.049240e+08\n",
       "38021  211.263  0  6.283870e+08\n",
       "38022  211.268  0  1.730940e+08\n",
       "38023  211.274  0  5.814130e+08"
      ]
     },
     "execution_count": 6,
     "metadata": {},
     "output_type": "execute_result"
    }
   ],
   "source": [
    "df_m3.loc[38003:38023]"
   ]
  },
  {
   "cell_type": "markdown",
   "id": "296115f0",
   "metadata": {},
   "source": [
    "The biggest frequeny is very clear so i just choose one"
   ]
  },
  {
   "cell_type": "code",
   "execution_count": 7,
   "id": "ee0713bf",
   "metadata": {
    "scrolled": true
   },
   "outputs": [
    {
     "data": {
      "text/plain": [
       "211.218"
      ]
     },
     "execution_count": 7,
     "metadata": {},
     "output_type": "execute_result"
    }
   ],
   "source": [
    "freq  = df_m3[0][df_m3[2].idxmax(0)]\n",
    "freq"
   ]
  },
  {
   "cell_type": "markdown",
   "id": "a8bec44e",
   "metadata": {},
   "source": [
    "***Templatebank and probing***"
   ]
  },
  {
   "cell_type": "markdown",
   "id": "9e912d2d",
   "metadata": {},
   "source": [
    "create template bank in range of the just determined frequency\n",
    "\n",
    "because there is only one possible frequency intervall we can directly make the runtime analysis\n",
    "We do a square of:"
   ]
  },
  {
   "cell_type": "code",
   "execution_count": 8,
   "id": "bd21d98e",
   "metadata": {
    "scrolled": true
   },
   "outputs": [
    {
     "data": {
      "text/plain": [
       "12287"
      ]
     },
     "execution_count": 8,
     "metadata": {},
     "output_type": "execute_result"
    }
   ],
   "source": [
    "freqs = int(2*dfreq/1e-3)\n",
    "phis = 1117\n",
    "createTemplateBank(filename,freqs,freq-dfreq,freq+dfreq,phis)\n",
    "freqs * phis"
   ]
  },
  {
   "cell_type": "markdown",
   "id": "a22b4ece",
   "metadata": {},
   "source": [
    "Runtime analysis\n",
    "\n",
    "Take the time for probing of one element of the template bank"
   ]
  },
  {
   "cell_type": "code",
   "execution_count": 9,
   "id": "2ed62ee3",
   "metadata": {
    "scrolled": false
   },
   "outputs": [
    {
     "name": "stdout",
     "output_type": "stream",
     "text": [
      "587 ms ± 39 ms per loop (mean ± std. dev. of 3 runs, 100 loops each)\n"
     ]
    }
   ],
   "source": [
    "%%timeit -n100 -r3\n",
    "prober(filename,method=1,freq_prober=freq,phi=0)"
   ]
  },
  {
   "cell_type": "markdown",
   "id": "6950e9e8",
   "metadata": {},
   "source": [
    "thus we expect a runtime of:"
   ]
  },
  {
   "cell_type": "code",
   "execution_count": 10,
   "id": "5a54ede2",
   "metadata": {
    "scrolled": true
   },
   "outputs": [
    {
     "name": "stdout",
     "output_type": "stream",
     "text": [
      "111.8117 minutes\n"
     ]
    }
   ],
   "source": [
    "print(freqs * phis * 0.546 / 60, \"minutes\")"
   ]
  },
  {
   "cell_type": "markdown",
   "id": "651a10c9",
   "metadata": {},
   "source": [
    "which from experience is way to high. It is probably because of the time it take to call the function and the reason that prober with a template bank is way more optimised.\n",
    "\n",
    "do an analysis for frequency, phase and amplitude with method 1 scalar product (takes about 3-4 min):"
   ]
  },
  {
   "cell_type": "code",
   "execution_count": 11,
   "id": "bd215955",
   "metadata": {
    "scrolled": true
   },
   "outputs": [
    {
     "name": "stdout",
     "output_type": "stream",
     "text": [
      "CPU times: user 10.2 ms, sys: 22.4 ms, total: 32.6 ms\n",
      "Wall time: 3min 29s\n"
     ]
    },
    {
     "data": {
      "text/plain": [
       "ExecResult(exit_code=0, output=b'')"
      ]
     },
     "execution_count": 11,
     "metadata": {},
     "output_type": "execute_result"
    }
   ],
   "source": [
    "%%time\n",
    "prober_tb(filename,1,filename)"
   ]
  },
  {
   "cell_type": "markdown",
   "id": "3e08f43f",
   "metadata": {},
   "source": [
    "visualize the result"
   ]
  },
  {
   "cell_type": "code",
   "execution_count": 12,
   "id": "d584d7cd",
   "metadata": {
    "scrolled": true
   },
   "outputs": [
    {
     "data": {
      "image/png": "[encoded data removed]",
      "text/plain": [
       "<Figure size 432x288 with 2 Axes>"
      ]
     },
     "metadata": {
      "needs_background": "light"
     },
     "output_type": "display_data"
    },
    {
     "data": {
      "text/plain": [
       "(211.218, 5.93412, 0.1866622)"
      ]
     },
     "execution_count": 12,
     "metadata": {},
     "output_type": "execute_result"
    }
   ],
   "source": [
    "df = proberToDf(filename,True)\n",
    "(a ,b)  = (df[0].drop_duplicates(),df[1].drop_duplicates())\n",
    "plt.contourf(a,b,df[2].values.reshape(len(b.index),len(a.index)))\n",
    "plt.colorbar()\n",
    "plt.show()\n",
    "idmax = df[2].idxmax()\n",
    "freq = df[0][idmax]\n",
    "phase = df[1][idmax]\n",
    "ampl = df[2][idmax]*2\n",
    "(freq,phase,ampl)"
   ]
  },
  {
   "cell_type": "markdown",
   "id": "e82891df",
   "metadata": {},
   "source": [
    "the solution is not very sharp"
   ]
  },
  {
   "cell_type": "markdown",
   "id": "9af3340b",
   "metadata": {},
   "source": [
    "Dataframe of (df, dphi, mismatch)_i"
   ]
  },
  {
   "cell_type": "code",
   "execution_count": 13,
   "id": "98a041e7",
   "metadata": {
    "scrolled": false
   },
   "outputs": [
    {
     "data": {
      "text/html": [
       "<div>\n",
       "<style scoped>\n",
       "    .dataframe tbody tr th:only-of-type {\n",
       "        vertical-align: middle;\n",
       "    }\n",
       "\n",
       "    .dataframe tbody tr th {\n",
       "        vertical-align: top;\n",
       "    }\n",
       "\n",
       "    .dataframe thead th {\n",
       "        text-align: right;\n",
       "    }\n",
       "</style>\n",
       "<table border=\"1\" class=\"dataframe\">\n",
       "  <thead>\n",
       "    <tr style=\"text-align: right;\">\n",
       "      <th></th>\n",
       "      <th>df</th>\n",
       "      <th>dp</th>\n",
       "      <th>mismatch</th>\n",
       "    </tr>\n",
       "  </thead>\n",
       "  <tbody>\n",
       "    <tr>\n",
       "      <th>0</th>\n",
       "      <td>0.006</td>\n",
       "      <td>5.93412</td>\n",
       "      <td>0.230746</td>\n",
       "    </tr>\n",
       "    <tr>\n",
       "      <th>1</th>\n",
       "      <td>0.004</td>\n",
       "      <td>5.93412</td>\n",
       "      <td>0.412050</td>\n",
       "    </tr>\n",
       "    <tr>\n",
       "      <th>2</th>\n",
       "      <td>0.003</td>\n",
       "      <td>5.93412</td>\n",
       "      <td>0.734483</td>\n",
       "    </tr>\n",
       "    <tr>\n",
       "      <th>3</th>\n",
       "      <td>0.002</td>\n",
       "      <td>5.93412</td>\n",
       "      <td>0.649503</td>\n",
       "    </tr>\n",
       "    <tr>\n",
       "      <th>4</th>\n",
       "      <td>0.001</td>\n",
       "      <td>5.93412</td>\n",
       "      <td>0.217566</td>\n",
       "    </tr>\n",
       "    <tr>\n",
       "      <th>...</th>\n",
       "      <td>...</td>\n",
       "      <td>...</td>\n",
       "      <td>...</td>\n",
       "    </tr>\n",
       "    <tr>\n",
       "      <th>12282</th>\n",
       "      <td>0.001</td>\n",
       "      <td>0.34907</td>\n",
       "      <td>0.495185</td>\n",
       "    </tr>\n",
       "    <tr>\n",
       "      <th>12283</th>\n",
       "      <td>0.002</td>\n",
       "      <td>0.34907</td>\n",
       "      <td>1.076532</td>\n",
       "    </tr>\n",
       "    <tr>\n",
       "      <th>12284</th>\n",
       "      <td>0.003</td>\n",
       "      <td>0.34907</td>\n",
       "      <td>1.163762</td>\n",
       "    </tr>\n",
       "    <tr>\n",
       "      <th>12285</th>\n",
       "      <td>0.004</td>\n",
       "      <td>0.34907</td>\n",
       "      <td>0.741045</td>\n",
       "    </tr>\n",
       "    <tr>\n",
       "      <th>12286</th>\n",
       "      <td>0.006</td>\n",
       "      <td>0.34907</td>\n",
       "      <td>0.411877</td>\n",
       "    </tr>\n",
       "  </tbody>\n",
       "</table>\n",
       "<p>12287 rows × 3 columns</p>\n",
       "</div>"
      ],
      "text/plain": [
       "          df       dp  mismatch\n",
       "0      0.006  5.93412  0.230746\n",
       "1      0.004  5.93412  0.412050\n",
       "2      0.003  5.93412  0.734483\n",
       "3      0.002  5.93412  0.649503\n",
       "4      0.001  5.93412  0.217566\n",
       "...      ...      ...       ...\n",
       "12282  0.001  0.34907  0.495185\n",
       "12283  0.002  0.34907  1.076532\n",
       "12284  0.003  0.34907  1.163762\n",
       "12285  0.004  0.34907  0.741045\n",
       "12286  0.006  0.34907  0.411877\n",
       "\n",
       "[12287 rows x 3 columns]"
      ]
     },
     "execution_count": 13,
     "metadata": {},
     "output_type": "execute_result"
    }
   ],
   "source": [
    "mismatch=1-df[2]/ampl*2\n",
    "d = {'df': np.abs(df[0]-freq), 'dp':np.abs(df[1]-phase),'mismatch':mismatch}\n",
    "mismatch = pd.DataFrame(data=d)\n",
    "mismatch"
   ]
  },
  {
   "cell_type": "markdown",
   "id": "acc1416d",
   "metadata": {},
   "source": [
    "***ROC curve***"
   ]
  },
  {
   "cell_type": "markdown",
   "id": "2e2415a2",
   "metadata": {},
   "source": [
    "Generate Noise and multiple signals with above parameters"
   ]
  },
  {
   "cell_type": "code",
   "execution_count": 14,
   "id": "83e7d2fd",
   "metadata": {},
   "outputs": [],
   "source": [
    "for i in range(0,100):\n",
    "    if not os.path.isfile(path+getFileName(N,sigma,0,deltaT=dt)+\"_\"+str(i)):\n",
    "        filename = getFileName(N=N,sigma=sigma,amplitude=0,deltaT=dt)+\"_\"+str(i)\n",
    "        generate_source(N=N,sigma=sigma,amplitude=0,deltaT=dt,filename=filename)\n",
    "        \n",
    "for i in range(0,100):\n",
    "    if not os.path.isfile(path+getFileName(N,sigma,ampl,freq,deltaT=dt,phase=phase)+\"_\"+str(i)):\n",
    "        filename = getFileName(N=N,sigma=sigma,amplitude=ampl,freq=freq,deltaT=dt,phase=phase)+\"_\"+str(i)\n",
    "        generate_source(N=N,sigma=sigma,amplitude=ampl,freq=freq,deltaT=dt,phase=phase,filename=filename)"
   ]
  },
  {
   "cell_type": "markdown",
   "id": "96aee039",
   "metadata": {},
   "source": [
    "probe the generated signals"
   ]
  },
  {
   "cell_type": "code",
   "execution_count": 15,
   "id": "3655d99f",
   "metadata": {},
   "outputs": [],
   "source": [
    "probeN=[float(method_one(getFileName(N,sigma,0,deltaT=dt)+\"_\"+str(i),freq,phase)[2])/ampl*2 for i in range(0,100)]\n",
    "probeS=[float(method_one(getFileName(N,sigma,ampl,freq,dt,phase)+\"_\"+str(i),freq,phase)[2])/ampl*2 for i in range(0,100)]"
   ]
  },
  {
   "cell_type": "code",
   "execution_count": 16,
   "id": "8eb4b1e5",
   "metadata": {},
   "outputs": [
    {
     "data": {
      "text/plain": [
       "0.1866622"
      ]
     },
     "execution_count": 16,
     "metadata": {},
     "output_type": "execute_result"
    }
   ],
   "source": [
    "ampl"
   ]
  },
  {
   "cell_type": "code",
   "execution_count": 17,
   "id": "55ea0893",
   "metadata": {
    "scrolled": true
   },
   "outputs": [
    {
     "data": {
      "image/png": "[encoded data removed]",
      "text/plain": [
       "<Figure size 432x288 with 1 Axes>"
      ]
     },
     "metadata": {
      "needs_background": "light"
     },
     "output_type": "display_data"
    }
   ],
   "source": [
    "plt.plot(probeS)\n",
    "plt.plot(probeN)\n",
    "plt.show()"
   ]
  },
  {
   "cell_type": "markdown",
   "id": "c5d47795",
   "metadata": {},
   "source": [
    "Plot histograms"
   ]
  },
  {
   "cell_type": "code",
   "execution_count": 18,
   "id": "ea20a274",
   "metadata": {
    "scrolled": true
   },
   "outputs": [
    {
     "data": {
      "image/png": "[encoded data removed]",
      "text/plain": [
       "<Figure size 432x288 with 1 Axes>"
      ]
     },
     "metadata": {
      "needs_background": "light"
     },
     "output_type": "display_data"
    }
   ],
   "source": [
    "plt.hist(probeN,bins=25,alpha=0.5)\n",
    "plt.hist(probeS,bins=25,alpha=0.5)\n",
    "plt.show()"
   ]
  },
  {
   "cell_type": "markdown",
   "id": "23c6afb5",
   "metadata": {},
   "source": [
    "Generate ROC curve"
   ]
  },
  {
   "cell_type": "code",
   "execution_count": 19,
   "id": "377ca722",
   "metadata": {
    "scrolled": true
   },
   "outputs": [
    {
     "data": {
      "text/html": [
       "<div>\n",
       "<style scoped>\n",
       "    .dataframe tbody tr th:only-of-type {\n",
       "        vertical-align: middle;\n",
       "    }\n",
       "\n",
       "    .dataframe tbody tr th {\n",
       "        vertical-align: top;\n",
       "    }\n",
       "\n",
       "    .dataframe thead th {\n",
       "        text-align: right;\n",
       "    }\n",
       "</style>\n",
       "<table border=\"1\" class=\"dataframe\">\n",
       "  <thead>\n",
       "    <tr style=\"text-align: right;\">\n",
       "      <th></th>\n",
       "      <th>threshold</th>\n",
       "      <th>false positives</th>\n",
       "      <th>true positives</th>\n",
       "    </tr>\n",
       "  </thead>\n",
       "  <tbody>\n",
       "    <tr>\n",
       "      <th>0</th>\n",
       "      <td>-1.000000</td>\n",
       "      <td>100</td>\n",
       "      <td>100</td>\n",
       "    </tr>\n",
       "    <tr>\n",
       "      <th>1</th>\n",
       "      <td>-0.979798</td>\n",
       "      <td>100</td>\n",
       "      <td>100</td>\n",
       "    </tr>\n",
       "    <tr>\n",
       "      <th>2</th>\n",
       "      <td>-0.959596</td>\n",
       "      <td>100</td>\n",
       "      <td>100</td>\n",
       "    </tr>\n",
       "    <tr>\n",
       "      <th>3</th>\n",
       "      <td>-0.939394</td>\n",
       "      <td>100</td>\n",
       "      <td>100</td>\n",
       "    </tr>\n",
       "    <tr>\n",
       "      <th>4</th>\n",
       "      <td>-0.919192</td>\n",
       "      <td>100</td>\n",
       "      <td>100</td>\n",
       "    </tr>\n",
       "    <tr>\n",
       "      <th>...</th>\n",
       "      <td>...</td>\n",
       "      <td>...</td>\n",
       "      <td>...</td>\n",
       "    </tr>\n",
       "    <tr>\n",
       "      <th>95</th>\n",
       "      <td>0.919192</td>\n",
       "      <td>0</td>\n",
       "      <td>80</td>\n",
       "    </tr>\n",
       "    <tr>\n",
       "      <th>96</th>\n",
       "      <td>0.939394</td>\n",
       "      <td>0</td>\n",
       "      <td>73</td>\n",
       "    </tr>\n",
       "    <tr>\n",
       "      <th>97</th>\n",
       "      <td>0.959596</td>\n",
       "      <td>0</td>\n",
       "      <td>72</td>\n",
       "    </tr>\n",
       "    <tr>\n",
       "      <th>98</th>\n",
       "      <td>0.979798</td>\n",
       "      <td>0</td>\n",
       "      <td>68</td>\n",
       "    </tr>\n",
       "    <tr>\n",
       "      <th>99</th>\n",
       "      <td>1.000000</td>\n",
       "      <td>0</td>\n",
       "      <td>62</td>\n",
       "    </tr>\n",
       "  </tbody>\n",
       "</table>\n",
       "<p>100 rows × 3 columns</p>\n",
       "</div>"
      ],
      "text/plain": [
       "    threshold  false positives  true positives\n",
       "0   -1.000000              100             100\n",
       "1   -0.979798              100             100\n",
       "2   -0.959596              100             100\n",
       "3   -0.939394              100             100\n",
       "4   -0.919192              100             100\n",
       "..        ...              ...             ...\n",
       "95   0.919192                0              80\n",
       "96   0.939394                0              73\n",
       "97   0.959596                0              72\n",
       "98   0.979798                0              68\n",
       "99   1.000000                0              62\n",
       "\n",
       "[100 rows x 3 columns]"
      ]
     },
     "execution_count": 19,
     "metadata": {},
     "output_type": "execute_result"
    }
   ],
   "source": [
    "roc = compute_thresholds(probeS,probeN)\n",
    "roc"
   ]
  },
  {
   "cell_type": "markdown",
   "id": "a08abb40",
   "metadata": {},
   "source": [
    "Plot the roc curve and get the threshold."
   ]
  },
  {
   "cell_type": "code",
   "execution_count": 20,
   "id": "e8b69825",
   "metadata": {
    "scrolled": true
   },
   "outputs": [
    {
     "data": {
      "image/png": "[encoded data removed]",
      "text/plain": [
       "<Figure size 432x288 with 1 Axes>"
      ]
     },
     "metadata": {
      "needs_background": "light"
     },
     "output_type": "display_data"
    },
    {
     "data": {
      "text/plain": [
       "0.8787878787878789"
      ]
     },
     "execution_count": 20,
     "metadata": {},
     "output_type": "execute_result"
    }
   ],
   "source": [
    "roc_curve(probeS,probeN)"
   ]
  },
  {
   "cell_type": "markdown",
   "id": "2f8044b9",
   "metadata": {},
   "source": [
    "With this threshold about 81/100 times the signal gets detected, while 0/100 times noise gets detected as a signal."
   ]
  },
  {
   "cell_type": "code",
   "execution_count": 23,
   "id": "5dd24601",
   "metadata": {},
   "outputs": [
    {
     "data": {
      "text/html": [
       "<div>\n",
       "<style scoped>\n",
       "    .dataframe tbody tr th:only-of-type {\n",
       "        vertical-align: middle;\n",
       "    }\n",
       "\n",
       "    .dataframe tbody tr th {\n",
       "        vertical-align: top;\n",
       "    }\n",
       "\n",
       "    .dataframe thead th {\n",
       "        text-align: right;\n",
       "    }\n",
       "</style>\n",
       "<table border=\"1\" class=\"dataframe\">\n",
       "  <thead>\n",
       "    <tr style=\"text-align: right;\">\n",
       "      <th></th>\n",
       "      <th>threshold</th>\n",
       "      <th>false positives</th>\n",
       "      <th>true positives</th>\n",
       "    </tr>\n",
       "  </thead>\n",
       "  <tbody>\n",
       "    <tr>\n",
       "      <th>93</th>\n",
       "      <td>0.878788</td>\n",
       "      <td>0</td>\n",
       "      <td>81</td>\n",
       "    </tr>\n",
       "  </tbody>\n",
       "</table>\n",
       "</div>"
      ],
      "text/plain": [
       "    threshold  false positives  true positives\n",
       "93   0.878788                0              81"
      ]
     },
     "execution_count": 23,
     "metadata": {},
     "output_type": "execute_result"
    }
   ],
   "source": [
    "roc[93:94]"
   ]
  },
  {
   "cell_type": "code",
   "execution_count": null,
   "id": "4684116f",
   "metadata": {},
   "outputs": [],
   "source": []
  }
 ],
 "metadata": {
  "kernelspec": {
   "display_name": "Python 3 (ipykernel)",
   "language": "python",
   "name": "python3"
  },
  "language_info": {
   "codemirror_mode": {
    "name": "ipython",
    "version": 3
   },
   "file_extension": ".py",
   "mimetype": "text/x-python",
   "name": "python",
   "nbconvert_exporter": "python",
   "pygments_lexer": "ipython3",
   "version": "3.8.9"
  }
 },
 "nbformat": 4,
 "nbformat_minor": 5
}
