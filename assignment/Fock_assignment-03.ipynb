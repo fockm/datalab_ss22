{
 "cells": [
  {
   "cell_type": "code",
   "execution_count": 1,
   "id": "6f352251",
   "metadata": {
    "scrolled": true
   },
   "outputs": [],
   "source": [
    "import numpy as np\n",
    "import pandas as pd\n",
    "import matplotlib.pyplot as plt\n",
    "import docker\n",
    "from io import StringIO\n",
    "import os.path\n",
    "\n",
    "# Import one methods from other file\n",
    "from dl_routines import *\n",
    "\n",
    "\n",
    "client = docker.from_env()\n",
    "client.containers.list()\n",
    "container=client.containers.get(\"datalab_s22\")\n",
    "container.attach()\n",
    "\n",
    "path=\"../code/assignment/\"\n",
    "\n",
    "t=180\n",
    "dt=1/4096\n",
    "N=180/dt\n",
    "sigma=25\n",
    "\n",
    "filename = \"data_03.csv\""
   ]
  },
  {
   "cell_type": "markdown",
   "id": "99d761bd",
   "metadata": {},
   "source": [
    "Plot the signal"
   ]
  },
  {
   "cell_type": "code",
   "execution_count": 2,
   "id": "68bff3ab",
   "metadata": {
    "scrolled": false
   },
   "outputs": [
    {
     "data": {
      "text/plain": [
       "[<matplotlib.lines.Line2D at 0x13114f1c0>]"
      ]
     },
     "execution_count": 2,
     "metadata": {},
     "output_type": "execute_result"
    },
    {
     "data": {
      "image/png": "[encoded data removed]",
      "text/plain": [
       "<Figure size 432x288 with 1 Axes>"
      ]
     },
     "metadata": {
      "needs_background": "light"
     },
     "output_type": "display_data"
    }
   ],
   "source": [
    "data=pd.read_csv(path+filename,delimiter=' ',header=None)\n",
    "plt.plot(data[0],data[1])"
   ]
  },
  {
   "cell_type": "markdown",
   "id": "d2fe8150",
   "metadata": {},
   "source": [
    "***First analysis***"
   ]
  },
  {
   "cell_type": "markdown",
   "id": "fc6be09a",
   "metadata": {},
   "source": [
    "at first do a analysis with method 3 fourier transformation because it is best for easy signals"
   ]
  },
  {
   "cell_type": "code",
   "execution_count": 3,
   "id": "84cde1f6",
   "metadata": {
    "scrolled": true
   },
   "outputs": [
    {
     "data": {
      "image/png": "[encoded data removed]",
      "text/plain": [
       "<Figure size 432x288 with 1 Axes>"
      ]
     },
     "metadata": {
      "needs_background": "light"
     },
     "output_type": "display_data"
    }
   ],
   "source": [
    "df_m3 = method_three(filename)\n",
    "plt.plot(df_m3[0],df_m3[2])\n",
    "plt.xscale(\"log\")\n",
    "plt.yscale(\"log\")\n",
    "plt.show()"
   ]
  },
  {
   "cell_type": "markdown",
   "id": "a768b097",
   "metadata": {},
   "source": [
    "Get the frequency stepsize from the fourier sprectrum"
   ]
  },
  {
   "cell_type": "code",
   "execution_count": 4,
   "id": "217aeac0",
   "metadata": {},
   "outputs": [
    {
     "data": {
      "text/plain": [
       "0.00555648"
      ]
     },
     "execution_count": 4,
     "metadata": {},
     "output_type": "execute_result"
    }
   ],
   "source": [
    "dfreq = df_m3[0][1]-df_m3[0][0]\n",
    "dfreq"
   ]
  },
  {
   "cell_type": "markdown",
   "id": "3d5a09d9",
   "metadata": {},
   "source": [
    "Get an overview over the range where the maximum peak lays"
   ]
  },
  {
   "cell_type": "code",
   "execution_count": 5,
   "id": "99502434",
   "metadata": {
    "scrolled": true
   },
   "outputs": [
    {
     "data": {
      "text/html": [
       "<div>\n",
       "<style scoped>\n",
       "    .dataframe tbody tr th:only-of-type {\n",
       "        vertical-align: middle;\n",
       "    }\n",
       "\n",
       "    .dataframe tbody tr th {\n",
       "        vertical-align: top;\n",
       "    }\n",
       "\n",
       "    .dataframe thead th {\n",
       "        text-align: right;\n",
       "    }\n",
       "</style>\n",
       "<table border=\"1\" class=\"dataframe\">\n",
       "  <thead>\n",
       "    <tr style=\"text-align: right;\">\n",
       "      <th></th>\n",
       "      <th>0</th>\n",
       "      <th>1</th>\n",
       "      <th>2</th>\n",
       "    </tr>\n",
       "  </thead>\n",
       "  <tbody>\n",
       "    <tr>\n",
       "      <th>10434</th>\n",
       "      <td>57.9763</td>\n",
       "      <td>0</td>\n",
       "      <td>1.643130e+11</td>\n",
       "    </tr>\n",
       "    <tr>\n",
       "      <th>10435</th>\n",
       "      <td>57.9819</td>\n",
       "      <td>0</td>\n",
       "      <td>8.987310e+10</td>\n",
       "    </tr>\n",
       "    <tr>\n",
       "      <th>10433</th>\n",
       "      <td>57.9708</td>\n",
       "      <td>0</td>\n",
       "      <td>1.715010e+10</td>\n",
       "    </tr>\n",
       "    <tr>\n",
       "      <th>10436</th>\n",
       "      <td>57.9874</td>\n",
       "      <td>0</td>\n",
       "      <td>9.968800e+09</td>\n",
       "    </tr>\n",
       "    <tr>\n",
       "      <th>100867</th>\n",
       "      <td>560.4650</td>\n",
       "      <td>0</td>\n",
       "      <td>8.685920e+09</td>\n",
       "    </tr>\n",
       "    <tr>\n",
       "      <th>...</th>\n",
       "      <td>...</td>\n",
       "      <td>...</td>\n",
       "      <td>...</td>\n",
       "    </tr>\n",
       "    <tr>\n",
       "      <th>491517</th>\n",
       "      <td>2731.1000</td>\n",
       "      <td>0</td>\n",
       "      <td>0.000000e+00</td>\n",
       "    </tr>\n",
       "    <tr>\n",
       "      <th>491516</th>\n",
       "      <td>2731.1000</td>\n",
       "      <td>0</td>\n",
       "      <td>0.000000e+00</td>\n",
       "    </tr>\n",
       "    <tr>\n",
       "      <th>491515</th>\n",
       "      <td>2731.0900</td>\n",
       "      <td>0</td>\n",
       "      <td>0.000000e+00</td>\n",
       "    </tr>\n",
       "    <tr>\n",
       "      <th>491514</th>\n",
       "      <td>2731.0900</td>\n",
       "      <td>0</td>\n",
       "      <td>0.000000e+00</td>\n",
       "    </tr>\n",
       "    <tr>\n",
       "      <th>737279</th>\n",
       "      <td>4096.6800</td>\n",
       "      <td>0</td>\n",
       "      <td>0.000000e+00</td>\n",
       "    </tr>\n",
       "  </tbody>\n",
       "</table>\n",
       "<p>737280 rows × 3 columns</p>\n",
       "</div>"
      ],
      "text/plain": [
       "                0  1             2\n",
       "10434     57.9763  0  1.643130e+11\n",
       "10435     57.9819  0  8.987310e+10\n",
       "10433     57.9708  0  1.715010e+10\n",
       "10436     57.9874  0  9.968800e+09\n",
       "100867   560.4650  0  8.685920e+09\n",
       "...           ... ..           ...\n",
       "491517  2731.1000  0  0.000000e+00\n",
       "491516  2731.1000  0  0.000000e+00\n",
       "491515  2731.0900  0  0.000000e+00\n",
       "491514  2731.0900  0  0.000000e+00\n",
       "737279  4096.6800  0  0.000000e+00\n",
       "\n",
       "[737280 rows x 3 columns]"
      ]
     },
     "execution_count": 5,
     "metadata": {},
     "output_type": "execute_result"
    }
   ],
   "source": [
    "df_m3_sort = df_m3.sort_values(by=[2],ascending=False)\n",
    "df_m3_sort"
   ]
  },
  {
   "cell_type": "code",
   "execution_count": 6,
   "id": "b7a2687b",
   "metadata": {
    "scrolled": true
   },
   "outputs": [
    {
     "data": {
      "text/html": [
       "<div>\n",
       "<style scoped>\n",
       "    .dataframe tbody tr th:only-of-type {\n",
       "        vertical-align: middle;\n",
       "    }\n",
       "\n",
       "    .dataframe tbody tr th {\n",
       "        vertical-align: top;\n",
       "    }\n",
       "\n",
       "    .dataframe thead th {\n",
       "        text-align: right;\n",
       "    }\n",
       "</style>\n",
       "<table border=\"1\" class=\"dataframe\">\n",
       "  <thead>\n",
       "    <tr style=\"text-align: right;\">\n",
       "      <th></th>\n",
       "      <th>0</th>\n",
       "      <th>1</th>\n",
       "      <th>2</th>\n",
       "    </tr>\n",
       "  </thead>\n",
       "  <tbody>\n",
       "    <tr>\n",
       "      <th>10424</th>\n",
       "      <td>57.9207</td>\n",
       "      <td>0</td>\n",
       "      <td>5.910440e+08</td>\n",
       "    </tr>\n",
       "    <tr>\n",
       "      <th>10425</th>\n",
       "      <td>57.9263</td>\n",
       "      <td>0</td>\n",
       "      <td>1.310390e+09</td>\n",
       "    </tr>\n",
       "    <tr>\n",
       "      <th>10426</th>\n",
       "      <td>57.9319</td>\n",
       "      <td>0</td>\n",
       "      <td>1.760740e+09</td>\n",
       "    </tr>\n",
       "    <tr>\n",
       "      <th>10427</th>\n",
       "      <td>57.9374</td>\n",
       "      <td>0</td>\n",
       "      <td>6.049060e+08</td>\n",
       "    </tr>\n",
       "    <tr>\n",
       "      <th>10428</th>\n",
       "      <td>57.9430</td>\n",
       "      <td>0</td>\n",
       "      <td>8.076590e+07</td>\n",
       "    </tr>\n",
       "    <tr>\n",
       "      <th>10429</th>\n",
       "      <td>57.9485</td>\n",
       "      <td>0</td>\n",
       "      <td>1.398540e+09</td>\n",
       "    </tr>\n",
       "    <tr>\n",
       "      <th>10430</th>\n",
       "      <td>57.9541</td>\n",
       "      <td>0</td>\n",
       "      <td>1.719020e+09</td>\n",
       "    </tr>\n",
       "    <tr>\n",
       "      <th>10431</th>\n",
       "      <td>57.9596</td>\n",
       "      <td>0</td>\n",
       "      <td>5.509290e+08</td>\n",
       "    </tr>\n",
       "    <tr>\n",
       "      <th>10432</th>\n",
       "      <td>57.9652</td>\n",
       "      <td>0</td>\n",
       "      <td>5.482180e+09</td>\n",
       "    </tr>\n",
       "    <tr>\n",
       "      <th>10433</th>\n",
       "      <td>57.9708</td>\n",
       "      <td>0</td>\n",
       "      <td>1.715010e+10</td>\n",
       "    </tr>\n",
       "    <tr>\n",
       "      <th>10434</th>\n",
       "      <td>57.9763</td>\n",
       "      <td>0</td>\n",
       "      <td>1.643130e+11</td>\n",
       "    </tr>\n",
       "    <tr>\n",
       "      <th>10435</th>\n",
       "      <td>57.9819</td>\n",
       "      <td>0</td>\n",
       "      <td>8.987310e+10</td>\n",
       "    </tr>\n",
       "    <tr>\n",
       "      <th>10436</th>\n",
       "      <td>57.9874</td>\n",
       "      <td>0</td>\n",
       "      <td>9.968800e+09</td>\n",
       "    </tr>\n",
       "    <tr>\n",
       "      <th>10437</th>\n",
       "      <td>57.9930</td>\n",
       "      <td>0</td>\n",
       "      <td>7.844790e+09</td>\n",
       "    </tr>\n",
       "    <tr>\n",
       "      <th>10438</th>\n",
       "      <td>57.9985</td>\n",
       "      <td>0</td>\n",
       "      <td>6.868180e+09</td>\n",
       "    </tr>\n",
       "    <tr>\n",
       "      <th>10439</th>\n",
       "      <td>58.0041</td>\n",
       "      <td>0</td>\n",
       "      <td>1.148080e+09</td>\n",
       "    </tr>\n",
       "    <tr>\n",
       "      <th>10440</th>\n",
       "      <td>58.0097</td>\n",
       "      <td>0</td>\n",
       "      <td>4.897290e+07</td>\n",
       "    </tr>\n",
       "    <tr>\n",
       "      <th>10441</th>\n",
       "      <td>58.0152</td>\n",
       "      <td>0</td>\n",
       "      <td>5.406550e+08</td>\n",
       "    </tr>\n",
       "    <tr>\n",
       "      <th>10442</th>\n",
       "      <td>58.0208</td>\n",
       "      <td>0</td>\n",
       "      <td>1.133700e+09</td>\n",
       "    </tr>\n",
       "    <tr>\n",
       "      <th>10443</th>\n",
       "      <td>58.0263</td>\n",
       "      <td>0</td>\n",
       "      <td>6.698600e+08</td>\n",
       "    </tr>\n",
       "    <tr>\n",
       "      <th>10444</th>\n",
       "      <td>58.0319</td>\n",
       "      <td>0</td>\n",
       "      <td>1.278110e+09</td>\n",
       "    </tr>\n",
       "  </tbody>\n",
       "</table>\n",
       "</div>"
      ],
      "text/plain": [
       "             0  1             2\n",
       "10424  57.9207  0  5.910440e+08\n",
       "10425  57.9263  0  1.310390e+09\n",
       "10426  57.9319  0  1.760740e+09\n",
       "10427  57.9374  0  6.049060e+08\n",
       "10428  57.9430  0  8.076590e+07\n",
       "10429  57.9485  0  1.398540e+09\n",
       "10430  57.9541  0  1.719020e+09\n",
       "10431  57.9596  0  5.509290e+08\n",
       "10432  57.9652  0  5.482180e+09\n",
       "10433  57.9708  0  1.715010e+10\n",
       "10434  57.9763  0  1.643130e+11\n",
       "10435  57.9819  0  8.987310e+10\n",
       "10436  57.9874  0  9.968800e+09\n",
       "10437  57.9930  0  7.844790e+09\n",
       "10438  57.9985  0  6.868180e+09\n",
       "10439  58.0041  0  1.148080e+09\n",
       "10440  58.0097  0  4.897290e+07\n",
       "10441  58.0152  0  5.406550e+08\n",
       "10442  58.0208  0  1.133700e+09\n",
       "10443  58.0263  0  6.698600e+08\n",
       "10444  58.0319  0  1.278110e+09"
      ]
     },
     "execution_count": 6,
     "metadata": {},
     "output_type": "execute_result"
    }
   ],
   "source": [
    "df_m3.loc[10424:10444]"
   ]
  },
  {
   "cell_type": "markdown",
   "id": "296115f0",
   "metadata": {},
   "source": [
    "The biggest frequeny is very clear so i just choose one"
   ]
  },
  {
   "cell_type": "code",
   "execution_count": 7,
   "id": "ee0713bf",
   "metadata": {
    "scrolled": true
   },
   "outputs": [
    {
     "data": {
      "text/plain": [
       "57.9763"
      ]
     },
     "execution_count": 7,
     "metadata": {},
     "output_type": "execute_result"
    }
   ],
   "source": [
    "freq  = df_m3[0][df_m3[2].idxmax(0)]\n",
    "freq"
   ]
  },
  {
   "cell_type": "markdown",
   "id": "a8bec44e",
   "metadata": {},
   "source": [
    "***Templatebank and probing***"
   ]
  },
  {
   "cell_type": "markdown",
   "id": "9e912d2d",
   "metadata": {},
   "source": [
    "create template bank in range of the just determined frequency\n",
    "\n",
    "because there is only one possible frequency intervall we can directly make the runtime analysis\n",
    "We do a square of:"
   ]
  },
  {
   "cell_type": "code",
   "execution_count": 8,
   "id": "bd21d98e",
   "metadata": {
    "scrolled": true
   },
   "outputs": [
    {
     "data": {
      "text/plain": [
       "13231"
      ]
     },
     "execution_count": 8,
     "metadata": {},
     "output_type": "execute_result"
    }
   ],
   "source": [
    "freqs = int(2*dfreq/1.1e-4)\n",
    "phis = 131\n",
    "createTemplateBank(filename,freqs,freq-dfreq,freq+dfreq,phis)\n",
    "freqs * phis"
   ]
  },
  {
   "cell_type": "markdown",
   "id": "a22b4ece",
   "metadata": {},
   "source": [
    "Runtime analysis\n",
    "\n",
    "Take the time for probing of one element of the template bank"
   ]
  },
  {
   "cell_type": "code",
   "execution_count": 9,
   "id": "2ed62ee3",
   "metadata": {
    "scrolled": false
   },
   "outputs": [
    {
     "name": "stdout",
     "output_type": "stream",
     "text": [
      "433 ms ± 9.44 ms per loop (mean ± std. dev. of 3 runs, 100 loops each)\n"
     ]
    }
   ],
   "source": [
    "%%timeit -n100 -r3\n",
    "prober(filename,method=1,freq_prober=freq,phi=0)"
   ]
  },
  {
   "cell_type": "markdown",
   "id": "6950e9e8",
   "metadata": {},
   "source": [
    "thus we expect a runtime of:"
   ]
  },
  {
   "cell_type": "code",
   "execution_count": 10,
   "id": "5a54ede2",
   "metadata": {
    "scrolled": true
   },
   "outputs": [
    {
     "name": "stdout",
     "output_type": "stream",
     "text": [
      "51.821416666666664 minutes\n"
     ]
    }
   ],
   "source": [
    "print(freqs * phis * 0.235 / 60, \"minutes\")"
   ]
  },
  {
   "cell_type": "markdown",
   "id": "651a10c9",
   "metadata": {},
   "source": [
    "which from experience is way to high. It is probably because of the time it take to call the function and the reason that prober with a template bank is way more optimised.\n",
    "\n",
    "do an analysis for frequency, phase and amplitude with method 1 scalar product (takes about 3-4 min):"
   ]
  },
  {
   "cell_type": "code",
   "execution_count": 11,
   "id": "bd215955",
   "metadata": {
    "scrolled": true
   },
   "outputs": [
    {
     "name": "stdout",
     "output_type": "stream",
     "text": [
      "CPU times: user 14.4 ms, sys: 22.2 ms, total: 36.5 ms\n",
      "Wall time: 3min 25s\n"
     ]
    },
    {
     "data": {
      "text/plain": [
       "ExecResult(exit_code=0, output=b'')"
      ]
     },
     "execution_count": 11,
     "metadata": {},
     "output_type": "execute_result"
    }
   ],
   "source": [
    "%%time\n",
    "prober_tb(filename,1,filename)"
   ]
  },
  {
   "cell_type": "markdown",
   "id": "3e08f43f",
   "metadata": {},
   "source": [
    "visualize the result"
   ]
  },
  {
   "cell_type": "code",
   "execution_count": 12,
   "id": "d584d7cd",
   "metadata": {
    "scrolled": true
   },
   "outputs": [
    {
     "data": {
      "image/png": "[encoded data removed]",
      "text/plain": [
       "<Figure size 432x288 with 2 Axes>"
      ]
     },
     "metadata": {
      "needs_background": "light"
     },
     "output_type": "display_data"
    },
    {
     "data": {
      "text/plain": [
       "(57.9707, 5.7032, 1.289064)"
      ]
     },
     "execution_count": 12,
     "metadata": {},
     "output_type": "execute_result"
    }
   ],
   "source": [
    "df = proberToDf(filename,True)\n",
    "(a ,b)  = (df[0].drop_duplicates(),df[1].drop_duplicates())\n",
    "plt.contourf(a,b,df[2].values.reshape(len(b.index),len(a.index)))\n",
    "plt.colorbar()\n",
    "plt.show()\n",
    "idmax = df[2].idxmax()\n",
    "freq = df[0][idmax]\n",
    "phase = df[1][idmax]\n",
    "ampl = df[2][idmax]*2\n",
    "(freq,phase,ampl)"
   ]
  },
  {
   "cell_type": "markdown",
   "id": "e82891df",
   "metadata": {},
   "source": [
    "the solution seems very plausible and is very sharp"
   ]
  },
  {
   "cell_type": "markdown",
   "id": "9af3340b",
   "metadata": {},
   "source": [
    "Dataframe of (df, dphi, mismatch)_i"
   ]
  },
  {
   "cell_type": "code",
   "execution_count": 13,
   "id": "98a041e7",
   "metadata": {
    "scrolled": false
   },
   "outputs": [
    {
     "data": {
      "text/html": [
       "<div>\n",
       "<style scoped>\n",
       "    .dataframe tbody tr th:only-of-type {\n",
       "        vertical-align: middle;\n",
       "    }\n",
       "\n",
       "    .dataframe tbody tr th {\n",
       "        vertical-align: top;\n",
       "    }\n",
       "\n",
       "    .dataframe thead th {\n",
       "        text-align: right;\n",
       "    }\n",
       "</style>\n",
       "<table border=\"1\" class=\"dataframe\">\n",
       "  <thead>\n",
       "    <tr style=\"text-align: right;\">\n",
       "      <th></th>\n",
       "      <th>df</th>\n",
       "      <th>dp</th>\n",
       "      <th>mismatch</th>\n",
       "    </tr>\n",
       "  </thead>\n",
       "  <tbody>\n",
       "    <tr>\n",
       "      <th>0</th>\n",
       "      <td>0.0000</td>\n",
       "      <td>5.70320</td>\n",
       "      <td>0.156295</td>\n",
       "    </tr>\n",
       "    <tr>\n",
       "      <th>1</th>\n",
       "      <td>0.0002</td>\n",
       "      <td>5.70320</td>\n",
       "      <td>0.209357</td>\n",
       "    </tr>\n",
       "    <tr>\n",
       "      <th>2</th>\n",
       "      <td>0.0003</td>\n",
       "      <td>5.70320</td>\n",
       "      <td>0.264674</td>\n",
       "    </tr>\n",
       "    <tr>\n",
       "      <th>3</th>\n",
       "      <td>0.0004</td>\n",
       "      <td>5.70320</td>\n",
       "      <td>0.321657</td>\n",
       "    </tr>\n",
       "    <tr>\n",
       "      <th>4</th>\n",
       "      <td>0.0005</td>\n",
       "      <td>5.70320</td>\n",
       "      <td>0.379834</td>\n",
       "    </tr>\n",
       "    <tr>\n",
       "      <th>...</th>\n",
       "      <td>...</td>\n",
       "      <td>...</td>\n",
       "      <td>...</td>\n",
       "    </tr>\n",
       "    <tr>\n",
       "      <th>13226</th>\n",
       "      <td>0.0107</td>\n",
       "      <td>0.57999</td>\n",
       "      <td>0.835119</td>\n",
       "    </tr>\n",
       "    <tr>\n",
       "      <th>13227</th>\n",
       "      <td>0.0108</td>\n",
       "      <td>0.57999</td>\n",
       "      <td>0.829850</td>\n",
       "    </tr>\n",
       "    <tr>\n",
       "      <th>13228</th>\n",
       "      <td>0.0109</td>\n",
       "      <td>0.57999</td>\n",
       "      <td>0.825928</td>\n",
       "    </tr>\n",
       "    <tr>\n",
       "      <th>13229</th>\n",
       "      <td>0.0110</td>\n",
       "      <td>0.57999</td>\n",
       "      <td>0.823630</td>\n",
       "    </tr>\n",
       "    <tr>\n",
       "      <th>13230</th>\n",
       "      <td>0.0112</td>\n",
       "      <td>0.57999</td>\n",
       "      <td>0.822820</td>\n",
       "    </tr>\n",
       "  </tbody>\n",
       "</table>\n",
       "<p>13231 rows × 3 columns</p>\n",
       "</div>"
      ],
      "text/plain": [
       "           df       dp  mismatch\n",
       "0      0.0000  5.70320  0.156295\n",
       "1      0.0002  5.70320  0.209357\n",
       "2      0.0003  5.70320  0.264674\n",
       "3      0.0004  5.70320  0.321657\n",
       "4      0.0005  5.70320  0.379834\n",
       "...       ...      ...       ...\n",
       "13226  0.0107  0.57999  0.835119\n",
       "13227  0.0108  0.57999  0.829850\n",
       "13228  0.0109  0.57999  0.825928\n",
       "13229  0.0110  0.57999  0.823630\n",
       "13230  0.0112  0.57999  0.822820\n",
       "\n",
       "[13231 rows x 3 columns]"
      ]
     },
     "execution_count": 13,
     "metadata": {},
     "output_type": "execute_result"
    }
   ],
   "source": [
    "mismatch=1-df[2]/ampl*2\n",
    "d = {'df': np.abs(df[0]-freq), 'dp':np.abs(df[1]-phase),'mismatch':mismatch}\n",
    "mismatch = pd.DataFrame(data=d)\n",
    "mismatch"
   ]
  },
  {
   "cell_type": "markdown",
   "id": "acc1416d",
   "metadata": {},
   "source": [
    "***ROC curve***"
   ]
  },
  {
   "cell_type": "markdown",
   "id": "2e2415a2",
   "metadata": {},
   "source": [
    "Generate Noise and multiple signals with above parameters"
   ]
  },
  {
   "cell_type": "code",
   "execution_count": 14,
   "id": "83e7d2fd",
   "metadata": {},
   "outputs": [],
   "source": [
    "for i in range(0,100):\n",
    "    if not os.path.isfile(path+getFileName(N,sigma,0,deltaT=dt)+\"_\"+str(i)):\n",
    "        filename = getFileName(N=N,sigma=sigma,amplitude=0,deltaT=dt)+\"_\"+str(i)\n",
    "        generate_source(N=N,sigma=sigma,amplitude=0,deltaT=dt,filename=filename)\n",
    "        \n",
    "for i in range(0,100):\n",
    "    if not os.path.isfile(path+getFileName(N,sigma,ampl,freq,deltaT=dt,phase=phase)+\"_\"+str(i)):\n",
    "        filename = getFileName(N=N,sigma=sigma,amplitude=ampl,freq=freq,deltaT=dt,phase=phase)+\"_\"+str(i)\n",
    "        generate_source(N=N,sigma=sigma,amplitude=ampl,freq=freq,deltaT=dt,phase=phase,filename=filename)"
   ]
  },
  {
   "cell_type": "markdown",
   "id": "96aee039",
   "metadata": {},
   "source": [
    "probe the generated signals"
   ]
  },
  {
   "cell_type": "code",
   "execution_count": 15,
   "id": "3655d99f",
   "metadata": {},
   "outputs": [],
   "source": [
    "probeN=[float(method_one(getFileName(N,sigma,0,deltaT=dt)+\"_\"+str(i),freq,phase)[2])/ampl*2 for i in range(0,100)]\n",
    "probeS=[float(method_one(getFileName(N,sigma,ampl,freq,dt,phase)+\"_\"+str(i),freq,phase)[2])/ampl*2 for i in range(0,100)]"
   ]
  },
  {
   "cell_type": "code",
   "execution_count": 16,
   "id": "8eb4b1e5",
   "metadata": {},
   "outputs": [
    {
     "data": {
      "text/plain": [
       "1.289064"
      ]
     },
     "execution_count": 16,
     "metadata": {},
     "output_type": "execute_result"
    }
   ],
   "source": [
    "ampl"
   ]
  },
  {
   "cell_type": "code",
   "execution_count": 17,
   "id": "55ea0893",
   "metadata": {
    "scrolled": true
   },
   "outputs": [
    {
     "data": {
      "image/png": "[encoded data removed]",
      "text/plain": [
       "<Figure size 432x288 with 1 Axes>"
      ]
     },
     "metadata": {
      "needs_background": "light"
     },
     "output_type": "display_data"
    }
   ],
   "source": [
    "plt.plot(probeS)\n",
    "plt.plot(probeN)\n",
    "plt.show()"
   ]
  },
  {
   "cell_type": "markdown",
   "id": "c5d47795",
   "metadata": {},
   "source": [
    "Plot histograms"
   ]
  },
  {
   "cell_type": "code",
   "execution_count": 18,
   "id": "ea20a274",
   "metadata": {
    "scrolled": true
   },
   "outputs": [
    {
     "data": {
      "image/png": "[encoded data removed]",
      "text/plain": [
       "<Figure size 432x288 with 1 Axes>"
      ]
     },
     "metadata": {
      "needs_background": "light"
     },
     "output_type": "display_data"
    }
   ],
   "source": [
    "plt.hist(probeN,bins=25,alpha=0.5)\n",
    "plt.hist(probeS,bins=25,alpha=0.5)\n",
    "plt.show()"
   ]
  },
  {
   "cell_type": "markdown",
   "id": "23c6afb5",
   "metadata": {},
   "source": [
    "Generate ROC curve"
   ]
  },
  {
   "cell_type": "code",
   "execution_count": 19,
   "id": "377ca722",
   "metadata": {
    "scrolled": true
   },
   "outputs": [
    {
     "data": {
      "text/html": [
       "<div>\n",
       "<style scoped>\n",
       "    .dataframe tbody tr th:only-of-type {\n",
       "        vertical-align: middle;\n",
       "    }\n",
       "\n",
       "    .dataframe tbody tr th {\n",
       "        vertical-align: top;\n",
       "    }\n",
       "\n",
       "    .dataframe thead th {\n",
       "        text-align: right;\n",
       "    }\n",
       "</style>\n",
       "<table border=\"1\" class=\"dataframe\">\n",
       "  <thead>\n",
       "    <tr style=\"text-align: right;\">\n",
       "      <th></th>\n",
       "      <th>threshold</th>\n",
       "      <th>false positives</th>\n",
       "      <th>true positives</th>\n",
       "    </tr>\n",
       "  </thead>\n",
       "  <tbody>\n",
       "    <tr>\n",
       "      <th>0</th>\n",
       "      <td>-1.000000</td>\n",
       "      <td>100</td>\n",
       "      <td>100</td>\n",
       "    </tr>\n",
       "    <tr>\n",
       "      <th>1</th>\n",
       "      <td>-0.979798</td>\n",
       "      <td>100</td>\n",
       "      <td>100</td>\n",
       "    </tr>\n",
       "    <tr>\n",
       "      <th>2</th>\n",
       "      <td>-0.959596</td>\n",
       "      <td>100</td>\n",
       "      <td>100</td>\n",
       "    </tr>\n",
       "    <tr>\n",
       "      <th>3</th>\n",
       "      <td>-0.939394</td>\n",
       "      <td>100</td>\n",
       "      <td>100</td>\n",
       "    </tr>\n",
       "    <tr>\n",
       "      <th>4</th>\n",
       "      <td>-0.919192</td>\n",
       "      <td>100</td>\n",
       "      <td>100</td>\n",
       "    </tr>\n",
       "    <tr>\n",
       "      <th>...</th>\n",
       "      <td>...</td>\n",
       "      <td>...</td>\n",
       "      <td>...</td>\n",
       "    </tr>\n",
       "    <tr>\n",
       "      <th>95</th>\n",
       "      <td>0.919192</td>\n",
       "      <td>0</td>\n",
       "      <td>100</td>\n",
       "    </tr>\n",
       "    <tr>\n",
       "      <th>96</th>\n",
       "      <td>0.939394</td>\n",
       "      <td>0</td>\n",
       "      <td>96</td>\n",
       "    </tr>\n",
       "    <tr>\n",
       "      <th>97</th>\n",
       "      <td>0.959596</td>\n",
       "      <td>0</td>\n",
       "      <td>90</td>\n",
       "    </tr>\n",
       "    <tr>\n",
       "      <th>98</th>\n",
       "      <td>0.979798</td>\n",
       "      <td>0</td>\n",
       "      <td>68</td>\n",
       "    </tr>\n",
       "    <tr>\n",
       "      <th>99</th>\n",
       "      <td>1.000000</td>\n",
       "      <td>0</td>\n",
       "      <td>44</td>\n",
       "    </tr>\n",
       "  </tbody>\n",
       "</table>\n",
       "<p>100 rows × 3 columns</p>\n",
       "</div>"
      ],
      "text/plain": [
       "    threshold  false positives  true positives\n",
       "0   -1.000000              100             100\n",
       "1   -0.979798              100             100\n",
       "2   -0.959596              100             100\n",
       "3   -0.939394              100             100\n",
       "4   -0.919192              100             100\n",
       "..        ...              ...             ...\n",
       "95   0.919192                0             100\n",
       "96   0.939394                0              96\n",
       "97   0.959596                0              90\n",
       "98   0.979798                0              68\n",
       "99   1.000000                0              44\n",
       "\n",
       "[100 rows x 3 columns]"
      ]
     },
     "execution_count": 19,
     "metadata": {},
     "output_type": "execute_result"
    }
   ],
   "source": [
    "roc = compute_thresholds(probeS,probeN)\n",
    "roc"
   ]
  },
  {
   "cell_type": "markdown",
   "id": "a08abb40",
   "metadata": {},
   "source": [
    "Plot the roc curve and get the threshold."
   ]
  },
  {
   "cell_type": "code",
   "execution_count": 20,
   "id": "e8b69825",
   "metadata": {
    "scrolled": true
   },
   "outputs": [
    {
     "data": {
      "image/png": "[encoded data removed]",
      "text/plain": [
       "<Figure size 432x288 with 1 Axes>"
      ]
     },
     "metadata": {
      "needs_background": "light"
     },
     "output_type": "display_data"
    },
    {
     "data": {
      "text/plain": [
       "0.9595959595959598"
      ]
     },
     "execution_count": 20,
     "metadata": {},
     "output_type": "execute_result"
    }
   ],
   "source": [
    "roc_curve(probeS,probeN)"
   ]
  },
  {
   "cell_type": "markdown",
   "id": "2f8044b9",
   "metadata": {},
   "source": [
    "With this threshold about 90/100 times the signal gets detected, while 0/100 times noise gets detected as a signal."
   ]
  },
  {
   "cell_type": "code",
   "execution_count": 21,
   "id": "5dd24601",
   "metadata": {},
   "outputs": [
    {
     "data": {
      "text/html": [
       "<div>\n",
       "<style scoped>\n",
       "    .dataframe tbody tr th:only-of-type {\n",
       "        vertical-align: middle;\n",
       "    }\n",
       "\n",
       "    .dataframe tbody tr th {\n",
       "        vertical-align: top;\n",
       "    }\n",
       "\n",
       "    .dataframe thead th {\n",
       "        text-align: right;\n",
       "    }\n",
       "</style>\n",
       "<table border=\"1\" class=\"dataframe\">\n",
       "  <thead>\n",
       "    <tr style=\"text-align: right;\">\n",
       "      <th></th>\n",
       "      <th>threshold</th>\n",
       "      <th>false positives</th>\n",
       "      <th>true positives</th>\n",
       "    </tr>\n",
       "  </thead>\n",
       "  <tbody>\n",
       "    <tr>\n",
       "      <th>97</th>\n",
       "      <td>0.959596</td>\n",
       "      <td>0</td>\n",
       "      <td>90</td>\n",
       "    </tr>\n",
       "  </tbody>\n",
       "</table>\n",
       "</div>"
      ],
      "text/plain": [
       "    threshold  false positives  true positives\n",
       "97   0.959596                0              90"
      ]
     },
     "execution_count": 21,
     "metadata": {},
     "output_type": "execute_result"
    }
   ],
   "source": [
    "roc[97:98]"
   ]
  },
  {
   "cell_type": "code",
   "execution_count": null,
   "id": "4684116f",
   "metadata": {},
   "outputs": [],
   "source": []
  }
 ],
 "metadata": {
  "kernelspec": {
   "display_name": "Python 3 (ipykernel)",
   "language": "python",
   "name": "python3"
  },
  "language_info": {
   "codemirror_mode": {
    "name": "ipython",
    "version": 3
   },
   "file_extension": ".py",
   "mimetype": "text/x-python",
   "name": "python",
   "nbconvert_exporter": "python",
   "pygments_lexer": "ipython3",
   "version": "3.8.9"
  }
 },
 "nbformat": 4,
 "nbformat_minor": 5
}
