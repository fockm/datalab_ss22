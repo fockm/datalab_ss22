{
 "cells": [
  {
   "cell_type": "code",
   "execution_count": 1,
   "id": "37818949",
   "metadata": {},
   "outputs": [],
   "source": [
    "import pandas as pd\n",
    "import matplotlib.pyplot as plt\n",
    "import numpy as np"
   ]
  },
  {
   "cell_type": "code",
   "execution_count": 2,
   "id": "2d2546b4",
   "metadata": {},
   "outputs": [],
   "source": [
    "path=\"../code/data/\""
   ]
  },
  {
   "cell_type": "code",
   "execution_count": 3,
   "id": "ef341b31",
   "metadata": {},
   "outputs": [
    {
     "data": {
      "text/plain": [
       "b''"
      ]
     },
     "execution_count": 3,
     "metadata": {},
     "output_type": "execute_result"
    }
   ],
   "source": [
    "import docker\n",
    "from io import StringIO\n",
    "\n",
    "client = docker.from_env()\n",
    "client.containers.list()\n",
    "container=client.containers.get(\"datalab_s22\")\n",
    "container.attach()"
   ]
  },
  {
   "cell_type": "code",
   "execution_count": 4,
   "id": "f8b3933f",
   "metadata": {},
   "outputs": [],
   "source": [
    "def getFileName(N,sigma,amplitude,freq=0,deltaT=1,phase=0):\n",
    "    return \"N=%s-s=%s-d=%s-f=%s-a=%s-p=%s\" % (N ,sigma, deltaT, freq, amplitude, phase)"
   ]
  },
  {
   "cell_type": "code",
   "execution_count": 5,
   "id": "18ccd2ee",
   "metadata": {},
   "outputs": [],
   "source": [
    "def generate_source(N,sigma,amplitude,freq=0,deltaT=1,phase=0):\n",
    "    filename = \"N=%s-s=%s-d=%s-f=%s-a=%s-p=%s\" % (N ,sigma, deltaT, freq, amplitude, phase)\n",
    "    container.exec_run(\"/home/generate_source -N %s -s %s -d %s -f %s -a %s -p %s -o %s\" % (N ,sigma, deltaT, freq, amplitude, phase, \"/home/data/out_\"+filename))\n",
    "    return pd.read_csv(path+\"out_\"+filename,delimiter=' ',header=None)"
   ]
  },
  {
   "cell_type": "code",
   "execution_count": 6,
   "id": "efe05bae",
   "metadata": {},
   "outputs": [],
   "source": [
    "def prober(filename,method,freq_prober=0,phi=0):\n",
    "    if method==3:\n",
    "        return container.exec_run(\"/home/prober -i %s -o %s -m %s\" % (\"home/data/out_\"+filename ,\"home/data/prober_\"+filename, method))\n",
    "    else:\n",
    "        return container.exec_run(\"/home/prober -i %s -f %s -p %s -m %s\" % (\"home/data/out_\"+filename, freq_prober, phi, method))"
   ]
  },
  {
   "cell_type": "code",
   "execution_count": 7,
   "id": "13b10c10",
   "metadata": {},
   "outputs": [],
   "source": [
    "def method_one(filename,freq,phi):\n",
    "    prober_return = str(prober(filename,1,freq,phi).output,'utf-8').split()\n",
    "    return prober_return"
   ]
  },
  {
   "cell_type": "code",
   "execution_count": 8,
   "id": "ae188820",
   "metadata": {},
   "outputs": [],
   "source": [
    "def method_two(filename,freq):\n",
    "    prober_return = [str(prober(filename,2,freq,i/250*2*np.pi).output,'utf-8').split() for i in range(0,250)]\n",
    "    return pd.DataFrame(prober_return,dtype=float)"
   ]
  },
  {
   "cell_type": "code",
   "execution_count": 9,
   "id": "3e3be2e4",
   "metadata": {},
   "outputs": [],
   "source": [
    "def method_three(filename):\n",
    "    prober(filename,method=3)\n",
    "    result=pd.read_csv(path+\"prober_\"+filename,delimiter=' ',header=None)\n",
    "    plt.plot(result[0],result[2])\n",
    "    plt.show()\n",
    "    return result"
   ]
  },
  {
   "cell_type": "code",
   "execution_count": 10,
   "id": "42ee6406",
   "metadata": {},
   "outputs": [],
   "source": [
    "def findSignal(filename):\n",
    "    #generate_source()\n",
    "    df = method_three(filename)\n",
    "    freq  = df[0][df[2].idxmax(0)]\n",
    "    df = method_two(filename,freq)    \n",
    "    phi  = df[1][df[2].idxmin(0)]\n",
    "    df = method_one(filename,freq,phi)  \n",
    "    ampl = float(df[2])*2\n",
    "    return freq,phi,ampl"
   ]
  },
  {
   "cell_type": "code",
   "execution_count": 11,
   "id": "6cba1e9a",
   "metadata": {},
   "outputs": [
    {
     "data": {
      "text/plain": [
       "'N=10000-s=16-d=0.001-f=100-a=1-p=0'"
      ]
     },
     "execution_count": 11,
     "metadata": {},
     "output_type": "execute_result"
    }
   ],
   "source": [
    "getFileName(10000,16,1,100,0.001)"
   ]
  },
  {
   "cell_type": "code",
   "execution_count": 12,
   "id": "027c3b03",
   "metadata": {},
   "outputs": [
    {
     "data": {
      "image/png": "[encoded data removed]",
      "text/plain": [
       "<Figure size 432x288 with 1 Axes>"
      ]
     },
     "metadata": {
      "needs_background": "light"
     },
     "output_type": "display_data"
    },
    {
     "data": {
      "text/plain": [
       "(100.0, 0.100531, 1.116804)"
      ]
     },
     "execution_count": 12,
     "metadata": {},
     "output_type": "execute_result"
    }
   ],
   "source": [
    "findSignal('N=10000-s=16-d=0.001-f=100-a=1-p=0')"
   ]
  },
  {
   "cell_type": "markdown",
   "id": "642f110c",
   "metadata": {},
   "source": [
    "*  Wie ist das mit der Amplitude aus der FFT zu berechnen. Dazu braucht man ja die Phase. Aber wie geht das?"
   ]
  },
  {
   "cell_type": "code",
   "execution_count": 13,
   "id": "1fa72f89",
   "metadata": {},
   "outputs": [],
   "source": [
    "def signalToDf(filename):\n",
    "    return pd.read_csv(path+\"out_\"+filename,delimiter=' ',header=None)"
   ]
  },
  {
   "cell_type": "code",
   "execution_count": 14,
   "id": "3636a18f",
   "metadata": {},
   "outputs": [
    {
     "data": {
      "text/html": [
       "<div>\n",
       "<style scoped>\n",
       "    .dataframe tbody tr th:only-of-type {\n",
       "        vertical-align: middle;\n",
       "    }\n",
       "\n",
       "    .dataframe tbody tr th {\n",
       "        vertical-align: top;\n",
       "    }\n",
       "\n",
       "    .dataframe thead th {\n",
       "        text-align: right;\n",
       "    }\n",
       "</style>\n",
       "<table border=\"1\" class=\"dataframe\">\n",
       "  <thead>\n",
       "    <tr style=\"text-align: right;\">\n",
       "      <th></th>\n",
       "      <th>0</th>\n",
       "      <th>1</th>\n",
       "    </tr>\n",
       "  </thead>\n",
       "  <tbody>\n",
       "    <tr>\n",
       "      <th>0</th>\n",
       "      <td>0.000</td>\n",
       "      <td>4.930285</td>\n",
       "    </tr>\n",
       "    <tr>\n",
       "      <th>1</th>\n",
       "      <td>0.001</td>\n",
       "      <td>3.440588</td>\n",
       "    </tr>\n",
       "    <tr>\n",
       "      <th>2</th>\n",
       "      <td>0.002</td>\n",
       "      <td>15.401697</td>\n",
       "    </tr>\n",
       "    <tr>\n",
       "      <th>3</th>\n",
       "      <td>0.003</td>\n",
       "      <td>-6.635899</td>\n",
       "    </tr>\n",
       "    <tr>\n",
       "      <th>4</th>\n",
       "      <td>0.004</td>\n",
       "      <td>2.930019</td>\n",
       "    </tr>\n",
       "    <tr>\n",
       "      <th>...</th>\n",
       "      <td>...</td>\n",
       "      <td>...</td>\n",
       "    </tr>\n",
       "    <tr>\n",
       "      <th>9995</th>\n",
       "      <td>9.995</td>\n",
       "      <td>2.637122</td>\n",
       "    </tr>\n",
       "    <tr>\n",
       "      <th>9996</th>\n",
       "      <td>9.996</td>\n",
       "      <td>-24.293419</td>\n",
       "    </tr>\n",
       "    <tr>\n",
       "      <th>9997</th>\n",
       "      <td>9.997</td>\n",
       "      <td>11.900341</td>\n",
       "    </tr>\n",
       "    <tr>\n",
       "      <th>9998</th>\n",
       "      <td>9.998</td>\n",
       "      <td>-3.043582</td>\n",
       "    </tr>\n",
       "    <tr>\n",
       "      <th>9999</th>\n",
       "      <td>9.999</td>\n",
       "      <td>10.925320</td>\n",
       "    </tr>\n",
       "  </tbody>\n",
       "</table>\n",
       "<p>10000 rows × 2 columns</p>\n",
       "</div>"
      ],
      "text/plain": [
       "          0          1\n",
       "0     0.000   4.930285\n",
       "1     0.001   3.440588\n",
       "2     0.002  15.401697\n",
       "3     0.003  -6.635899\n",
       "4     0.004   2.930019\n",
       "...     ...        ...\n",
       "9995  9.995   2.637122\n",
       "9996  9.996 -24.293419\n",
       "9997  9.997  11.900341\n",
       "9998  9.998  -3.043582\n",
       "9999  9.999  10.925320\n",
       "\n",
       "[10000 rows x 2 columns]"
      ]
     },
     "execution_count": 14,
     "metadata": {},
     "output_type": "execute_result"
    }
   ],
   "source": [
    "signalToDf('N=10000-s=16-d=0.001-f=100-a=1-p=0')"
   ]
  },
  {
   "cell_type": "code",
   "execution_count": 17,
   "id": "48c9a148",
   "metadata": {},
   "outputs": [
    {
     "data": {
      "text/html": [
       "<div>\n",
       "<style scoped>\n",
       "    .dataframe tbody tr th:only-of-type {\n",
       "        vertical-align: middle;\n",
       "    }\n",
       "\n",
       "    .dataframe tbody tr th {\n",
       "        vertical-align: top;\n",
       "    }\n",
       "\n",
       "    .dataframe thead th {\n",
       "        text-align: right;\n",
       "    }\n",
       "</style>\n",
       "<table border=\"1\" class=\"dataframe\">\n",
       "  <thead>\n",
       "    <tr style=\"text-align: right;\">\n",
       "      <th></th>\n",
       "      <th>0</th>\n",
       "      <th>1</th>\n",
       "    </tr>\n",
       "  </thead>\n",
       "  <tbody>\n",
       "    <tr>\n",
       "      <th>0</th>\n",
       "      <td>0.0000</td>\n",
       "      <td>10.347052</td>\n",
       "    </tr>\n",
       "    <tr>\n",
       "      <th>1</th>\n",
       "      <td>0.0004</td>\n",
       "      <td>14.344256</td>\n",
       "    </tr>\n",
       "    <tr>\n",
       "      <th>2</th>\n",
       "      <td>0.0008</td>\n",
       "      <td>-31.541992</td>\n",
       "    </tr>\n",
       "    <tr>\n",
       "      <th>3</th>\n",
       "      <td>0.0012</td>\n",
       "      <td>-1.245603</td>\n",
       "    </tr>\n",
       "    <tr>\n",
       "      <th>4</th>\n",
       "      <td>0.0016</td>\n",
       "      <td>12.287149</td>\n",
       "    </tr>\n",
       "    <tr>\n",
       "      <th>...</th>\n",
       "      <td>...</td>\n",
       "      <td>...</td>\n",
       "    </tr>\n",
       "    <tr>\n",
       "      <th>9995</th>\n",
       "      <td>3.9980</td>\n",
       "      <td>-4.279735</td>\n",
       "    </tr>\n",
       "    <tr>\n",
       "      <th>9996</th>\n",
       "      <td>3.9984</td>\n",
       "      <td>-31.226187</td>\n",
       "    </tr>\n",
       "    <tr>\n",
       "      <th>9997</th>\n",
       "      <td>3.9988</td>\n",
       "      <td>-12.716520</td>\n",
       "    </tr>\n",
       "    <tr>\n",
       "      <th>9998</th>\n",
       "      <td>3.9992</td>\n",
       "      <td>-12.249658</td>\n",
       "    </tr>\n",
       "    <tr>\n",
       "      <th>9999</th>\n",
       "      <td>3.9996</td>\n",
       "      <td>30.339029</td>\n",
       "    </tr>\n",
       "  </tbody>\n",
       "</table>\n",
       "<p>10000 rows × 2 columns</p>\n",
       "</div>"
      ],
      "text/plain": [
       "           0          1\n",
       "0     0.0000  10.347052\n",
       "1     0.0004  14.344256\n",
       "2     0.0008 -31.541992\n",
       "3     0.0012  -1.245603\n",
       "4     0.0016  12.287149\n",
       "...      ...        ...\n",
       "9995  3.9980  -4.279735\n",
       "9996  3.9984 -31.226187\n",
       "9997  3.9988 -12.716520\n",
       "9998  3.9992 -12.249658\n",
       "9999  3.9996  30.339029\n",
       "\n",
       "[10000 rows x 2 columns]"
      ]
     },
     "execution_count": 17,
     "metadata": {},
     "output_type": "execute_result"
    }
   ],
   "source": [
    "generate_source(N=10000,sigma=16,amplitude=1.44,freq=106.3,deltaT=0.0004,phase=0.3)"
   ]
  },
  {
   "cell_type": "code",
   "execution_count": 18,
   "id": "1e990674",
   "metadata": {},
   "outputs": [
    {
     "data": {
      "image/png": "[encoded data removed]",
      "text/plain": [
       "<Figure size 432x288 with 1 Axes>"
      ]
     },
     "metadata": {
      "needs_background": "light"
     },
     "output_type": "display_data"
    },
    {
     "data": {
      "text/plain": [
       "(106.25, 0.703717, 1.389202)"
      ]
     },
     "execution_count": 18,
     "metadata": {},
     "output_type": "execute_result"
    }
   ],
   "source": [
    "findSignal(getFileName(N=10000,sigma=16,amplitude=1.44,freq=106.3,deltaT=0.0004,phase=0.3))"
   ]
  },
  {
   "cell_type": "code",
   "execution_count": 20,
   "id": "49416691",
   "metadata": {},
   "outputs": [
    {
     "data": {
      "image/png": "[encoded data removed]",
      "text/plain": [
       "<Figure size 432x288 with 1 Axes>"
      ]
     },
     "metadata": {
      "needs_background": "light"
     },
     "output_type": "display_data"
    },
    {
     "data": {
      "text/plain": [
       "(106.25, 0.854513, 1.380528)"
      ]
     },
     "execution_count": 20,
     "metadata": {},
     "output_type": "execute_result"
    }
   ],
   "source": [
    "generate_source(N=10000,sigma=3,amplitude=1.44,freq=106.3,deltaT=0.0004,phase=0.3)\n",
    "findSignal(getFileName(N=10000,sigma=3,amplitude=1.44,freq=106.3,deltaT=0.0004,phase=0.3))"
   ]
  },
  {
   "cell_type": "code",
   "execution_count": 21,
   "id": "d4443896",
   "metadata": {},
   "outputs": [
    {
     "data": {
      "image/png": "[encoded data removed]",
      "text/plain": [
       "<Figure size 432x288 with 1 Axes>"
      ]
     },
     "metadata": {
      "needs_background": "light"
     },
     "output_type": "display_data"
    },
    {
     "data": {
      "text/plain": [
       "(106.25, 0.854513, 1.380528)"
      ]
     },
     "execution_count": 21,
     "metadata": {},
     "output_type": "execute_result"
    }
   ],
   "source": [
    "generate_source(N=50000,sigma=3,amplitude=1.44,freq=106.3,deltaT=0.0004,phase=0.3)\n",
    "findSignal(getFileName(N=10000,sigma=3,amplitude=1.44,freq=106.3,deltaT=0.0004,phase=0.3))"
   ]
  },
  {
   "cell_type": "code",
   "execution_count": null,
   "id": "cfb28571",
   "metadata": {},
   "outputs": [],
   "source": []
  }
 ],
 "metadata": {
  "kernelspec": {
   "display_name": "Python 3 (ipykernel)",
   "language": "python",
   "name": "python3"
  },
  "language_info": {
   "codemirror_mode": {
    "name": "ipython",
    "version": 3
   },
   "file_extension": ".py",
   "mimetype": "text/x-python",
   "name": "python",
   "nbconvert_exporter": "python",
   "pygments_lexer": "ipython3",
   "version": "3.8.9"
  }
 },
 "nbformat": 4,
 "nbformat_minor": 5
}
